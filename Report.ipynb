{
  "nbformat": 4,
  "nbformat_minor": 0,
  "metadata": {
    "colab": {
      "name": "Report.ipynb",
      "provenance": [],
      "collapsed_sections": []
    },
    "kernelspec": {
      "name": "python3",
      "display_name": "Python 3"
    },
    "language_info": {
      "name": "python"
    }
  },
  "cells": [
    {
      "cell_type": "code",
      "source": [
        "!pip install pmdarima"
      ],
      "metadata": {
        "colab": {
          "base_uri": "https://localhost:8080/"
        },
        "id": "ZKjJadHb7wFo",
        "outputId": "7cff11aa-8291-4c7e-dad7-1874596e484e"
      },
      "execution_count": 1,
      "outputs": [
        {
          "output_type": "stream",
          "name": "stdout",
          "text": [
            "Requirement already satisfied: pmdarima in /usr/local/lib/python3.7/dist-packages (1.8.4)\n",
            "Requirement already satisfied: urllib3 in /usr/local/lib/python3.7/dist-packages (from pmdarima) (1.24.3)\n",
            "Requirement already satisfied: pandas>=0.19 in /usr/local/lib/python3.7/dist-packages (from pmdarima) (1.1.5)\n",
            "Requirement already satisfied: scipy>=1.3.2 in /usr/local/lib/python3.7/dist-packages (from pmdarima) (1.4.1)\n",
            "Requirement already satisfied: setuptools!=50.0.0,>=38.6.0 in /usr/local/lib/python3.7/dist-packages (from pmdarima) (57.4.0)\n",
            "Requirement already satisfied: joblib>=0.11 in /usr/local/lib/python3.7/dist-packages (from pmdarima) (1.1.0)\n",
            "Requirement already satisfied: numpy>=1.19.3 in /usr/local/lib/python3.7/dist-packages (from pmdarima) (1.19.5)\n",
            "Requirement already satisfied: scikit-learn>=0.22 in /usr/local/lib/python3.7/dist-packages (from pmdarima) (1.0.1)\n",
            "Requirement already satisfied: Cython!=0.29.18,>=0.29 in /usr/local/lib/python3.7/dist-packages (from pmdarima) (0.29.24)\n",
            "Requirement already satisfied: statsmodels!=0.12.0,>=0.11 in /usr/local/lib/python3.7/dist-packages (from pmdarima) (0.13.1)\n",
            "Requirement already satisfied: pytz>=2017.2 in /usr/local/lib/python3.7/dist-packages (from pandas>=0.19->pmdarima) (2018.9)\n",
            "Requirement already satisfied: python-dateutil>=2.7.3 in /usr/local/lib/python3.7/dist-packages (from pandas>=0.19->pmdarima) (2.8.2)\n",
            "Requirement already satisfied: six>=1.5 in /usr/local/lib/python3.7/dist-packages (from python-dateutil>=2.7.3->pandas>=0.19->pmdarima) (1.15.0)\n",
            "Requirement already satisfied: threadpoolctl>=2.0.0 in /usr/local/lib/python3.7/dist-packages (from scikit-learn>=0.22->pmdarima) (3.0.0)\n",
            "Requirement already satisfied: patsy>=0.5.2 in /usr/local/lib/python3.7/dist-packages (from statsmodels!=0.12.0,>=0.11->pmdarima) (0.5.2)\n"
          ]
        }
      ]
    },
    {
      "cell_type": "markdown",
      "source": [
        "# 1. Data Collection and Preprocessing"
      ],
      "metadata": {
        "id": "ctPaiuuGUFOw"
      }
    },
    {
      "cell_type": "code",
      "execution_count": 294,
      "metadata": {
        "id": "qCMtrz0rT_wH"
      },
      "outputs": [],
      "source": [
        "import pandas as pd\n",
        "import numpy as np\n",
        "import seaborn as sns\n",
        "import matplotlib.pyplot as plt\n",
        "\n",
        "import os\n",
        "from os.path import join\n",
        "import sys\n",
        "import warnings\n",
        "warnings.filterwarnings(action='ignore')\n",
        "\n",
        "import statsmodels\n",
        "import math\n",
        "from statsmodels.tsa.stattools import coint\n",
        "from pmdarima.arima import auto_arima\n",
        "from statsmodels.tsa.stattools import adfuller\n",
        "from statsmodels.tsa.stattools import grangercausalitytests\n",
        "from sklearn.metrics import mean_squared_error\n",
        "from statsmodels.tsa.vector_ar.vecm import *\n",
        "from xgboost import XGBRegressor\n",
        "\n",
        "path = '/content/drive/MyDrive/4-1/빅데이터경영'\n",
        "# from sklearn.preprocessing import StandardScaler\n",
        "# from sklearn.preprocessing import MinMaxScaler"
      ]
    },
    {
      "cell_type": "markdown",
      "source": [
        "## 코로나 데이터"
      ],
      "metadata": {
        "id": "8VVtwzbWanir"
      }
    },
    {
      "cell_type": "markdown",
      "source": [
        "**< 데이터 수집 >** \n",
        "* 출처 : 공공데이터포털\n",
        "\n",
        "  \n",
        "**< 데이터 설명 >** \n",
        "- 수집 원데이터 : \n",
        "    - 데이터 날짜 : 2020.02.05 - 2021.11.28 \n",
        "    - 시/도별 코로나 발생 동향 중 서울특별시 데이터만 수집\n",
        "- 전처리 후 : \n",
        "    - 데이터 날짜 : 2020.02.05 - 2021.09.30 \n",
        "    - 과거 - 현재 순으로 데이터 정렬\n",
        "    - 변수 선택 :  '서울시 기준일', '서울시 추가 확진', '서울시 추가 사망'\n",
        "    - '서울시 확진자', '서울시 사망' 피처변수들이 누적값이므로 이를 이용해 각 날짜와 변수에 해당하는 '서울시 추가 확진', '서울시 추가 사망' 피처를 생성하였다."
      ],
      "metadata": {
        "id": "hSKCBea4ayhM"
      }
    },
    {
      "cell_type": "markdown",
      "source": [
        "### Data Load"
      ],
      "metadata": {
        "id": "yrdjkUc-yw9r"
      }
    },
    {
      "cell_type": "code",
      "source": [
        "corona_file = '서울특별시 코로나19 확진자 발생동향.csv'\n",
        "corona_path = join(path, corona_file)\n",
        "\n",
        "raw_corona = pd.read_csv(corona_path, parse_dates=['서울시 기준일'], encoding='cp949')"
      ],
      "metadata": {
        "id": "-mmmfNmPaqg6"
      },
      "execution_count": 9,
      "outputs": []
    },
    {
      "cell_type": "markdown",
      "source": [
        "### Data Preprocessing"
      ],
      "metadata": {
        "id": "zFnNVbyRyye_"
      }
    },
    {
      "cell_type": "markdown",
      "source": [
        "1. 날짜 슬라이싱\n",
        "\n",
        "매출 데이터가 2017.01.01 - 2021.09.30 인것을 감안하여 코로나 데이터의 날짜를 2021.09.30 까지의 데이터로 슬라이싱하였다."
      ],
      "metadata": {
        "id": "1eN9hgAYc85N"
      }
    },
    {
      "cell_type": "code",
      "source": [
        "corona=raw_corona[53:]"
      ],
      "metadata": {
        "id": "BBj-T1mIcnlF"
      },
      "execution_count": 10,
      "outputs": []
    },
    {
      "cell_type": "markdown",
      "source": [
        "날짜 데이터로 변환"
      ],
      "metadata": {
        "id": "B8u_8B4bgzq-"
      }
    },
    {
      "cell_type": "code",
      "source": [
        "corona['서울시 기준일']=pd.to_datetime(corona['서울시 기준일']).dt.normalize()"
      ],
      "metadata": {
        "id": "71zvzGIagkX3"
      },
      "execution_count": 11,
      "outputs": []
    },
    {
      "cell_type": "markdown",
      "source": [
        "2. 변수 선택"
      ],
      "metadata": {
        "id": "R5tceUhMg40s"
      }
    },
    {
      "cell_type": "code",
      "source": [
        "corona=corona[['서울시 기준일','서울시 확진자','서울시 추가 확진','서울시 사망']]\n",
        "corona.reset_index(drop=True, inplace=True)"
      ],
      "metadata": {
        "id": "qSrhZhWag1jv"
      },
      "execution_count": 12,
      "outputs": []
    },
    {
      "cell_type": "code",
      "source": [
        "corona"
      ],
      "metadata": {
        "colab": {
          "base_uri": "https://localhost:8080/",
          "height": 424
        },
        "id": "OFlxBYfZhKzt",
        "outputId": "f494d192-7016-4a9b-dfd6-87ec0204c353"
      },
      "execution_count": 13,
      "outputs": [
        {
          "output_type": "execute_result",
          "data": {
            "text/html": [
              "<div>\n",
              "<style scoped>\n",
              "    .dataframe tbody tr th:only-of-type {\n",
              "        vertical-align: middle;\n",
              "    }\n",
              "\n",
              "    .dataframe tbody tr th {\n",
              "        vertical-align: top;\n",
              "    }\n",
              "\n",
              "    .dataframe thead th {\n",
              "        text-align: right;\n",
              "    }\n",
              "</style>\n",
              "<table border=\"1\" class=\"dataframe\">\n",
              "  <thead>\n",
              "    <tr style=\"text-align: right;\">\n",
              "      <th></th>\n",
              "      <th>서울시 기준일</th>\n",
              "      <th>서울시 확진자</th>\n",
              "      <th>서울시 추가 확진</th>\n",
              "      <th>서울시 사망</th>\n",
              "    </tr>\n",
              "  </thead>\n",
              "  <tbody>\n",
              "    <tr>\n",
              "      <th>0</th>\n",
              "      <td>2021-09-30</td>\n",
              "      <td>100495</td>\n",
              "      <td>945</td>\n",
              "      <td>643</td>\n",
              "    </tr>\n",
              "    <tr>\n",
              "      <th>1</th>\n",
              "      <td>2021-09-29</td>\n",
              "      <td>99550</td>\n",
              "      <td>1054</td>\n",
              "      <td>639</td>\n",
              "    </tr>\n",
              "    <tr>\n",
              "      <th>2</th>\n",
              "      <td>2021-09-28</td>\n",
              "      <td>98497</td>\n",
              "      <td>842</td>\n",
              "      <td>635</td>\n",
              "    </tr>\n",
              "    <tr>\n",
              "      <th>3</th>\n",
              "      <td>2021-09-27</td>\n",
              "      <td>97655</td>\n",
              "      <td>778</td>\n",
              "      <td>633</td>\n",
              "    </tr>\n",
              "    <tr>\n",
              "      <th>4</th>\n",
              "      <td>2021-09-26</td>\n",
              "      <td>96877</td>\n",
              "      <td>928</td>\n",
              "      <td>632</td>\n",
              "    </tr>\n",
              "    <tr>\n",
              "      <th>...</th>\n",
              "      <td>...</td>\n",
              "      <td>...</td>\n",
              "      <td>...</td>\n",
              "      <td>...</td>\n",
              "    </tr>\n",
              "    <tr>\n",
              "      <th>600</th>\n",
              "      <td>2020-02-09</td>\n",
              "      <td>10</td>\n",
              "      <td>0</td>\n",
              "      <td>0</td>\n",
              "    </tr>\n",
              "    <tr>\n",
              "      <th>601</th>\n",
              "      <td>2020-02-08</td>\n",
              "      <td>10</td>\n",
              "      <td>0</td>\n",
              "      <td>0</td>\n",
              "    </tr>\n",
              "    <tr>\n",
              "      <th>602</th>\n",
              "      <td>2020-02-07</td>\n",
              "      <td>10</td>\n",
              "      <td>0</td>\n",
              "      <td>0</td>\n",
              "    </tr>\n",
              "    <tr>\n",
              "      <th>603</th>\n",
              "      <td>2020-02-06</td>\n",
              "      <td>11</td>\n",
              "      <td>0</td>\n",
              "      <td>0</td>\n",
              "    </tr>\n",
              "    <tr>\n",
              "      <th>604</th>\n",
              "      <td>2020-02-05</td>\n",
              "      <td>8</td>\n",
              "      <td>0</td>\n",
              "      <td>0</td>\n",
              "    </tr>\n",
              "  </tbody>\n",
              "</table>\n",
              "<p>605 rows × 4 columns</p>\n",
              "</div>"
            ],
            "text/plain": [
              "       서울시 기준일  서울시 확진자  서울시 추가 확진  서울시 사망\n",
              "0   2021-09-30   100495        945     643\n",
              "1   2021-09-29    99550       1054     639\n",
              "2   2021-09-28    98497        842     635\n",
              "3   2021-09-27    97655        778     633\n",
              "4   2021-09-26    96877        928     632\n",
              "..         ...      ...        ...     ...\n",
              "600 2020-02-09       10          0       0\n",
              "601 2020-02-08       10          0       0\n",
              "602 2020-02-07       10          0       0\n",
              "603 2020-02-06       11          0       0\n",
              "604 2020-02-05        8          0       0\n",
              "\n",
              "[605 rows x 4 columns]"
            ]
          },
          "metadata": {},
          "execution_count": 13
        }
      ]
    },
    {
      "cell_type": "markdown",
      "source": [
        "3. 데이터 날짜를 기준으로 오름차순 정렬"
      ],
      "metadata": {
        "id": "9bjOeG4mhcGS"
      }
    },
    {
      "cell_type": "code",
      "source": [
        "corona=corona.loc[::-1,:]\n",
        "corona"
      ],
      "metadata": {
        "colab": {
          "base_uri": "https://localhost:8080/",
          "height": 424
        },
        "id": "UZ5xz232hQhF",
        "outputId": "5489999d-e4a5-4a7d-8539-7dcc59caf0ea"
      },
      "execution_count": 14,
      "outputs": [
        {
          "output_type": "execute_result",
          "data": {
            "text/html": [
              "<div>\n",
              "<style scoped>\n",
              "    .dataframe tbody tr th:only-of-type {\n",
              "        vertical-align: middle;\n",
              "    }\n",
              "\n",
              "    .dataframe tbody tr th {\n",
              "        vertical-align: top;\n",
              "    }\n",
              "\n",
              "    .dataframe thead th {\n",
              "        text-align: right;\n",
              "    }\n",
              "</style>\n",
              "<table border=\"1\" class=\"dataframe\">\n",
              "  <thead>\n",
              "    <tr style=\"text-align: right;\">\n",
              "      <th></th>\n",
              "      <th>서울시 기준일</th>\n",
              "      <th>서울시 확진자</th>\n",
              "      <th>서울시 추가 확진</th>\n",
              "      <th>서울시 사망</th>\n",
              "    </tr>\n",
              "  </thead>\n",
              "  <tbody>\n",
              "    <tr>\n",
              "      <th>604</th>\n",
              "      <td>2020-02-05</td>\n",
              "      <td>8</td>\n",
              "      <td>0</td>\n",
              "      <td>0</td>\n",
              "    </tr>\n",
              "    <tr>\n",
              "      <th>603</th>\n",
              "      <td>2020-02-06</td>\n",
              "      <td>11</td>\n",
              "      <td>0</td>\n",
              "      <td>0</td>\n",
              "    </tr>\n",
              "    <tr>\n",
              "      <th>602</th>\n",
              "      <td>2020-02-07</td>\n",
              "      <td>10</td>\n",
              "      <td>0</td>\n",
              "      <td>0</td>\n",
              "    </tr>\n",
              "    <tr>\n",
              "      <th>601</th>\n",
              "      <td>2020-02-08</td>\n",
              "      <td>10</td>\n",
              "      <td>0</td>\n",
              "      <td>0</td>\n",
              "    </tr>\n",
              "    <tr>\n",
              "      <th>600</th>\n",
              "      <td>2020-02-09</td>\n",
              "      <td>10</td>\n",
              "      <td>0</td>\n",
              "      <td>0</td>\n",
              "    </tr>\n",
              "    <tr>\n",
              "      <th>...</th>\n",
              "      <td>...</td>\n",
              "      <td>...</td>\n",
              "      <td>...</td>\n",
              "      <td>...</td>\n",
              "    </tr>\n",
              "    <tr>\n",
              "      <th>4</th>\n",
              "      <td>2021-09-26</td>\n",
              "      <td>96877</td>\n",
              "      <td>928</td>\n",
              "      <td>632</td>\n",
              "    </tr>\n",
              "    <tr>\n",
              "      <th>3</th>\n",
              "      <td>2021-09-27</td>\n",
              "      <td>97655</td>\n",
              "      <td>778</td>\n",
              "      <td>633</td>\n",
              "    </tr>\n",
              "    <tr>\n",
              "      <th>2</th>\n",
              "      <td>2021-09-28</td>\n",
              "      <td>98497</td>\n",
              "      <td>842</td>\n",
              "      <td>635</td>\n",
              "    </tr>\n",
              "    <tr>\n",
              "      <th>1</th>\n",
              "      <td>2021-09-29</td>\n",
              "      <td>99550</td>\n",
              "      <td>1054</td>\n",
              "      <td>639</td>\n",
              "    </tr>\n",
              "    <tr>\n",
              "      <th>0</th>\n",
              "      <td>2021-09-30</td>\n",
              "      <td>100495</td>\n",
              "      <td>945</td>\n",
              "      <td>643</td>\n",
              "    </tr>\n",
              "  </tbody>\n",
              "</table>\n",
              "<p>605 rows × 4 columns</p>\n",
              "</div>"
            ],
            "text/plain": [
              "       서울시 기준일  서울시 확진자  서울시 추가 확진  서울시 사망\n",
              "604 2020-02-05        8          0       0\n",
              "603 2020-02-06       11          0       0\n",
              "602 2020-02-07       10          0       0\n",
              "601 2020-02-08       10          0       0\n",
              "600 2020-02-09       10          0       0\n",
              "..         ...      ...        ...     ...\n",
              "4   2021-09-26    96877        928     632\n",
              "3   2021-09-27    97655        778     633\n",
              "2   2021-09-28    98497        842     635\n",
              "1   2021-09-29    99550       1054     639\n",
              "0   2021-09-30   100495        945     643\n",
              "\n",
              "[605 rows x 4 columns]"
            ]
          },
          "metadata": {},
          "execution_count": 14
        }
      ]
    },
    {
      "cell_type": "markdown",
      "source": [
        "4. 중복값 제거"
      ],
      "metadata": {
        "id": "shSQu1b9hkwe"
      }
    },
    {
      "cell_type": "code",
      "source": [
        "corona.loc[[141, 142, 143], :]"
      ],
      "metadata": {
        "colab": {
          "base_uri": "https://localhost:8080/",
          "height": 143
        },
        "id": "sJC2PAw8rA43",
        "outputId": "3ef332eb-1757-452d-cfb0-7946ebcce3e8"
      },
      "execution_count": 15,
      "outputs": [
        {
          "output_type": "execute_result",
          "data": {
            "text/html": [
              "<div>\n",
              "<style scoped>\n",
              "    .dataframe tbody tr th:only-of-type {\n",
              "        vertical-align: middle;\n",
              "    }\n",
              "\n",
              "    .dataframe tbody tr th {\n",
              "        vertical-align: top;\n",
              "    }\n",
              "\n",
              "    .dataframe thead th {\n",
              "        text-align: right;\n",
              "    }\n",
              "</style>\n",
              "<table border=\"1\" class=\"dataframe\">\n",
              "  <thead>\n",
              "    <tr style=\"text-align: right;\">\n",
              "      <th></th>\n",
              "      <th>서울시 기준일</th>\n",
              "      <th>서울시 확진자</th>\n",
              "      <th>서울시 추가 확진</th>\n",
              "      <th>서울시 사망</th>\n",
              "    </tr>\n",
              "  </thead>\n",
              "  <tbody>\n",
              "    <tr>\n",
              "      <th>141</th>\n",
              "      <td>2021-05-12</td>\n",
              "      <td>40118</td>\n",
              "      <td>223</td>\n",
              "      <td>466</td>\n",
              "    </tr>\n",
              "    <tr>\n",
              "      <th>142</th>\n",
              "      <td>2021-05-12</td>\n",
              "      <td>40118</td>\n",
              "      <td>223</td>\n",
              "      <td>466</td>\n",
              "    </tr>\n",
              "    <tr>\n",
              "      <th>143</th>\n",
              "      <td>2021-05-11</td>\n",
              "      <td>39895</td>\n",
              "      <td>163</td>\n",
              "      <td>464</td>\n",
              "    </tr>\n",
              "  </tbody>\n",
              "</table>\n",
              "</div>"
            ],
            "text/plain": [
              "       서울시 기준일  서울시 확진자  서울시 추가 확진  서울시 사망\n",
              "141 2021-05-12    40118        223     466\n",
              "142 2021-05-12    40118        223     466\n",
              "143 2021-05-11    39895        163     464"
            ]
          },
          "metadata": {},
          "execution_count": 15
        }
      ]
    },
    {
      "cell_type": "code",
      "source": [
        "corona.drop(index = [142],inplace=True)\n",
        "corona.reset_index(drop=True,inplace=True)"
      ],
      "metadata": {
        "id": "w0htH27bhGPL"
      },
      "execution_count": 16,
      "outputs": []
    },
    {
      "cell_type": "markdown",
      "source": [
        "5. Feature Engineering"
      ],
      "metadata": {
        "id": "J2u0c3X6h0Y9"
      }
    },
    {
      "cell_type": "code",
      "source": [
        "corona['서울시 추가 사망']=0     #컬럼 생성\n",
        "\n",
        "corona['서울시 추가 확진'][0]=corona['서울시 확진자'][0]\n",
        "for i in range(603):\n",
        "  corona['서울시 추가 확진'][i+1]=corona['서울시 확진자'][i+1]-corona['서울시 확진자'][i]\n",
        "  corona['서울시 추가 사망'][i+1]=corona['서울시 사망'][i+1]-corona['서울시 사망'][i]"
      ],
      "metadata": {
        "id": "m4JF8cqdhvbg"
      },
      "execution_count": 17,
      "outputs": []
    },
    {
      "cell_type": "markdown",
      "source": [
        "누적값을 기준으로 봤을 때 누적 확진자 수가 11명이었다가 10명으로 계속유지되는 것을 보면, 11명이 오타였을것으로 예상된다.   \n",
        "따라서 음수값이 나온 추가 확진자수를 0으로 변경해주었다."
      ],
      "metadata": {
        "id": "9S8gHQKOiC6h"
      }
    },
    {
      "cell_type": "code",
      "source": [
        "corona['서울시 추가 확진'][2]=0  \n",
        "\n",
        "# 사용하지 않는 피처 제거\n",
        "corona.drop(['서울시 확진자','서울시 사망'],axis=1, inplace = True)"
      ],
      "metadata": {
        "id": "lhrWSz4QiA39"
      },
      "execution_count": 18,
      "outputs": []
    },
    {
      "cell_type": "code",
      "source": [
        "corona.set_index('서울시 기준일', inplace = True)"
      ],
      "metadata": {
        "id": "0qlRdYxS2c8M"
      },
      "execution_count": 19,
      "outputs": []
    },
    {
      "cell_type": "code",
      "source": [
        "corona.info()"
      ],
      "metadata": {
        "colab": {
          "base_uri": "https://localhost:8080/"
        },
        "id": "olrd8UZNjisc",
        "outputId": "339c0f67-b1a6-4286-baf1-61ddb9b59acb"
      },
      "execution_count": 20,
      "outputs": [
        {
          "output_type": "stream",
          "name": "stdout",
          "text": [
            "<class 'pandas.core.frame.DataFrame'>\n",
            "DatetimeIndex: 604 entries, 2020-02-05 to 2021-09-30\n",
            "Data columns (total 2 columns):\n",
            " #   Column     Non-Null Count  Dtype\n",
            "---  ------     --------------  -----\n",
            " 0   서울시 추가 확진  604 non-null    int64\n",
            " 1   서울시 추가 사망  604 non-null    int64\n",
            "dtypes: int64(2)\n",
            "memory usage: 14.2 KB\n"
          ]
        }
      ]
    },
    {
      "cell_type": "code",
      "source": [
        "corona.head()"
      ],
      "metadata": {
        "colab": {
          "base_uri": "https://localhost:8080/",
          "height": 238
        },
        "id": "gGZxIjTr24rb",
        "outputId": "3615867b-2d39-4a0e-fe31-dc603f121f5f"
      },
      "execution_count": 21,
      "outputs": [
        {
          "output_type": "execute_result",
          "data": {
            "text/html": [
              "<div>\n",
              "<style scoped>\n",
              "    .dataframe tbody tr th:only-of-type {\n",
              "        vertical-align: middle;\n",
              "    }\n",
              "\n",
              "    .dataframe tbody tr th {\n",
              "        vertical-align: top;\n",
              "    }\n",
              "\n",
              "    .dataframe thead th {\n",
              "        text-align: right;\n",
              "    }\n",
              "</style>\n",
              "<table border=\"1\" class=\"dataframe\">\n",
              "  <thead>\n",
              "    <tr style=\"text-align: right;\">\n",
              "      <th></th>\n",
              "      <th>서울시 추가 확진</th>\n",
              "      <th>서울시 추가 사망</th>\n",
              "    </tr>\n",
              "    <tr>\n",
              "      <th>서울시 기준일</th>\n",
              "      <th></th>\n",
              "      <th></th>\n",
              "    </tr>\n",
              "  </thead>\n",
              "  <tbody>\n",
              "    <tr>\n",
              "      <th>2020-02-05</th>\n",
              "      <td>8</td>\n",
              "      <td>0</td>\n",
              "    </tr>\n",
              "    <tr>\n",
              "      <th>2020-02-06</th>\n",
              "      <td>3</td>\n",
              "      <td>0</td>\n",
              "    </tr>\n",
              "    <tr>\n",
              "      <th>2020-02-07</th>\n",
              "      <td>0</td>\n",
              "      <td>0</td>\n",
              "    </tr>\n",
              "    <tr>\n",
              "      <th>2020-02-08</th>\n",
              "      <td>0</td>\n",
              "      <td>0</td>\n",
              "    </tr>\n",
              "    <tr>\n",
              "      <th>2020-02-09</th>\n",
              "      <td>0</td>\n",
              "      <td>0</td>\n",
              "    </tr>\n",
              "  </tbody>\n",
              "</table>\n",
              "</div>"
            ],
            "text/plain": [
              "            서울시 추가 확진  서울시 추가 사망\n",
              "서울시 기준일                         \n",
              "2020-02-05          8          0\n",
              "2020-02-06          3          0\n",
              "2020-02-07          0          0\n",
              "2020-02-08          0          0\n",
              "2020-02-09          0          0"
            ]
          },
          "metadata": {},
          "execution_count": 21
        }
      ]
    },
    {
      "cell_type": "markdown",
      "source": [
        "# 날씨 데이터"
      ],
      "metadata": {
        "id": "lnzLIrFEs792"
      }
    },
    {
      "cell_type": "markdown",
      "source": [
        "* 출처 : 날씨마루\n",
        "\n",
        "  \n",
        "**< 데이터 설명 >** \n",
        "- 수집 원데이터 : \n",
        "  1. weather data\n",
        "    - 데이터 날짜 : 2017년 - 2021년 년도별 데이터\n",
        "    - 서울특별시의 날씨 데이터 (기온, 강수, 풍속 등)\n",
        "  2. humanity data\n",
        "    - 데이터 날짜 : \n",
        "      - humanity data 1 : 2017.01.01 - 2019.12.31\n",
        "      - humanity data 2 : 2020.01.01 - 2021.09.30 \n",
        "    - 서울특별시의 일자별 상대습도 데이터\n",
        "  3. 부유분진 데이터\n",
        "    - 데이터 날짜 : 2017년 - 2021년 년도별 데이터\n",
        "    - 서울특별시의 미세먼지 농도 데이터\n",
        "\n",
        "- 전처리 후 : \n",
        "    - 데이터 날짜 : 2017.01.01 - 2021.09.30 \n",
        "    - 코로나 기준일(2020.02.05)를 기준으로 두 데이터셋으로 분리\n",
        "    - 과거 - 현재 순으로 데이터 정렬\n",
        "    - 년도별 수집한 데이터는 날짜별 데이터로 병합\n",
        "    - 평균 날씨 데이터, 상대습도데이터, 평균 부유분진 농도 데이터를 병합\n",
        "    - feature engineering 진행"
      ],
      "metadata": {
        "id": "L1XgGs5StBhm"
      }
    },
    {
      "cell_type": "markdown",
      "source": [
        "### Data Load"
      ],
      "metadata": {
        "id": "kAYLZ-5iyuSR"
      }
    },
    {
      "cell_type": "markdown",
      "source": [
        "기온/강수/풍속 데이터"
      ],
      "metadata": {
        "id": "UnOpDK2ZwsHM"
      }
    },
    {
      "cell_type": "code",
      "source": [
        "for i in range(2017, 2022):\n",
        "  file_name = 'OBS_AWS_DD_' + str(i) + '.csv'\n",
        "  file_path = join(path, file_name)\n",
        "  dataframe_name = 'weather_' + str(i)\n",
        "  vars()[dataframe_name] = pd.read_csv(file_path,encoding='cp949',parse_dates=['일시'] )"
      ],
      "metadata": {
        "id": "j2C9g1TQjlwo"
      },
      "execution_count": 22,
      "outputs": []
    },
    {
      "cell_type": "markdown",
      "source": [
        "상대습도 데이터"
      ],
      "metadata": {
        "id": "fdg6-7xowwC4"
      }
    },
    {
      "cell_type": "code",
      "source": [
        "for i in range(1,3):\n",
        "  file_name = 'OBS_ASOS_DD_humidity_' + str(i) + '.csv'\n",
        "  file_path = join(path, file_name)\n",
        "  dataframe_name = 'humidity_' + str(i)\n",
        "  vars()[dataframe_name] = pd.read_csv(file_path,encoding='cp949',parse_dates=['일시'] )\n",
        "  # 변수 선택\n",
        "  vars()[dataframe_name]=vars()[dataframe_name][['일시','평균 상대습도(%)']]"
      ],
      "metadata": {
        "id": "ldtkZuHowpGy"
      },
      "execution_count": 23,
      "outputs": []
    },
    {
      "cell_type": "markdown",
      "source": [
        "부유분진 데이터"
      ],
      "metadata": {
        "id": "rF5ryUE4yne6"
      }
    },
    {
      "cell_type": "code",
      "source": [
        "for i in range(2017, 2022):\n",
        "  file_name = 'OBS_부유분진_DD_' + str(i) + '.csv'\n",
        "  file_path = join(path, file_name)\n",
        "  dataframe_name = 'dust_' + str(i)\n",
        "  vars()[dataframe_name] = pd.read_csv(file_path,encoding='cp949',parse_dates=['일시'] )"
      ],
      "metadata": {
        "id": "E2Z2aPCsy3-4"
      },
      "execution_count": 24,
      "outputs": []
    },
    {
      "cell_type": "markdown",
      "source": [
        "### Data Preprocessing"
      ],
      "metadata": {
        "id": "aofQRiXqzB1j"
      }
    },
    {
      "cell_type": "markdown",
      "source": [
        "데이터 병합"
      ],
      "metadata": {
        "id": "5X2zMsN1unYp"
      }
    },
    {
      "cell_type": "code",
      "source": [
        "weather = pd.concat([weather_2017,weather_2018,weather_2019, weather_2020,weather_2021],axis=0)\n",
        "weather = weather.groupby('일시').mean()\n",
        "weather = weather.reset_index()\n",
        "weather.drop(['지점','최저기온 시각(hhmi)','최고기온 시각(hhmi)','최대 순간 풍속(m/s)','최대 순간풍속 시각(hhmi)','최대 순간 풍속 풍향(deg)'],axis=1,inplace=True)"
      ],
      "metadata": {
        "id": "gio2306fuhsb"
      },
      "execution_count": 25,
      "outputs": []
    },
    {
      "cell_type": "code",
      "source": [
        "dust = pd.concat([dust_2017,dust_2018,dust_2019,dust_2020,dust_2021],axis=0)\n",
        "dust.drop(['지점','지점명'],axis=1,inplace=True)\n",
        "dust.reset_index(drop=True, inplace = True)"
      ],
      "metadata": {
        "id": "KLXJnmDzzYrD"
      },
      "execution_count": 26,
      "outputs": []
    },
    {
      "cell_type": "code",
      "source": [
        "humidity = pd.concat([humidity_1, humidity_2],axis=0)\n",
        "humidity.reset_index(drop=True, inplace = True)"
      ],
      "metadata": {
        "id": "1yYlFdxh0R8G"
      },
      "execution_count": 27,
      "outputs": []
    },
    {
      "cell_type": "code",
      "source": [
        "weather = pd.merge(weather,humidity,how='left',on='일시')\n",
        "weather = pd.merge(weather,dust,how='left',on='일시')"
      ],
      "metadata": {
        "id": "BysJ60zJzOPY"
      },
      "execution_count": 28,
      "outputs": []
    },
    {
      "cell_type": "markdown",
      "source": [
        "Feature Engineering"
      ],
      "metadata": {
        "id": "6-wjhoJG0mkv"
      }
    },
    {
      "cell_type": "code",
      "source": [
        "weather['불쾌지수'] = 1.8 * weather['평균기온(°C)'] - 0.55 * (1 - weather['평균 상대습도(%)']/100) * (1.8 * weather['평균기온(°C)'] - 26) + 32\n",
        "weather['열지수']=0.5 * (1.8*weather['평균기온(°C)'] +32 + 61.0 + ((1.8*weather['평균기온(°C)']+32-68.0) * 1.2) + (weather['평균 상대습도(%)']/100*0.094))\n",
        "weather['체감온도']=13.12+(0.6215*weather['평균기온(°C)'])-(11.37*(weather['평균 풍속(m/s)']**(0.16))) + 0.3965*weather['평균기온(°C)'] * (weather['평균 풍속(m/s)']**0.16)\n",
        "weather"
      ],
      "metadata": {
        "colab": {
          "base_uri": "https://localhost:8080/",
          "height": 424
        },
        "id": "EHBP0O9D0sgx",
        "outputId": "7fd32add-4f30-456c-e015-f170e58e1075"
      },
      "execution_count": 29,
      "outputs": [
        {
          "output_type": "execute_result",
          "data": {
            "text/html": [
              "<div>\n",
              "<style scoped>\n",
              "    .dataframe tbody tr th:only-of-type {\n",
              "        vertical-align: middle;\n",
              "    }\n",
              "\n",
              "    .dataframe tbody tr th {\n",
              "        vertical-align: top;\n",
              "    }\n",
              "\n",
              "    .dataframe thead th {\n",
              "        text-align: right;\n",
              "    }\n",
              "</style>\n",
              "<table border=\"1\" class=\"dataframe\">\n",
              "  <thead>\n",
              "    <tr style=\"text-align: right;\">\n",
              "      <th></th>\n",
              "      <th>일시</th>\n",
              "      <th>평균기온(°C)</th>\n",
              "      <th>최저기온(°C)</th>\n",
              "      <th>최고기온(°C)</th>\n",
              "      <th>일강수량(mm)</th>\n",
              "      <th>평균 풍속(m/s)</th>\n",
              "      <th>평균 상대습도(%)</th>\n",
              "      <th>일 미세먼지 농도(㎍/㎥)</th>\n",
              "      <th>불쾌지수</th>\n",
              "      <th>열지수</th>\n",
              "      <th>체감온도</th>\n",
              "    </tr>\n",
              "  </thead>\n",
              "  <tbody>\n",
              "    <tr>\n",
              "      <th>0</th>\n",
              "      <td>2017-01-01</td>\n",
              "      <td>3.564286</td>\n",
              "      <td>-0.800000</td>\n",
              "      <td>7.525000</td>\n",
              "      <td>0.000000</td>\n",
              "      <td>0.953571</td>\n",
              "      <td>75.9</td>\n",
              "      <td>60.0</td>\n",
              "      <td>41.011611</td>\n",
              "      <td>31.992959</td>\n",
              "      <td>5.453892</td>\n",
              "    </tr>\n",
              "    <tr>\n",
              "      <th>1</th>\n",
              "      <td>2017-01-02</td>\n",
              "      <td>5.835714</td>\n",
              "      <td>2.728571</td>\n",
              "      <td>9.357143</td>\n",
              "      <td>0.071429</td>\n",
              "      <td>1.492857</td>\n",
              "      <td>77.8</td>\n",
              "      <td>90.0</td>\n",
              "      <td>44.396312</td>\n",
              "      <td>36.491280</td>\n",
              "      <td>7.091146</td>\n",
              "    </tr>\n",
              "    <tr>\n",
              "      <th>2</th>\n",
              "      <td>2017-01-03</td>\n",
              "      <td>2.792857</td>\n",
              "      <td>-1.100000</td>\n",
              "      <td>7.335714</td>\n",
              "      <td>0.000000</td>\n",
              "      <td>1.278571</td>\n",
              "      <td>61.8</td>\n",
              "      <td>65.0</td>\n",
              "      <td>41.433540</td>\n",
              "      <td>30.458903</td>\n",
              "      <td>4.181575</td>\n",
              "    </tr>\n",
              "    <tr>\n",
              "      <th>3</th>\n",
              "      <td>2017-01-04</td>\n",
              "      <td>4.489286</td>\n",
              "      <td>1.342857</td>\n",
              "      <td>9.160714</td>\n",
              "      <td>0.000000</td>\n",
              "      <td>1.192857</td>\n",
              "      <td>55.0</td>\n",
              "      <td>47.0</td>\n",
              "      <td>44.515738</td>\n",
              "      <td>33.814636</td>\n",
              "      <td>6.045646</td>\n",
              "    </tr>\n",
              "    <tr>\n",
              "      <th>4</th>\n",
              "      <td>2017-01-05</td>\n",
              "      <td>4.671429</td>\n",
              "      <td>0.185714</td>\n",
              "      <td>7.867857</td>\n",
              "      <td>0.000000</td>\n",
              "      <td>1.875000</td>\n",
              "      <td>52.3</td>\n",
              "      <td>30.0</td>\n",
              "      <td>45.023683</td>\n",
              "      <td>34.174010</td>\n",
              "      <td>5.498446</td>\n",
              "    </tr>\n",
              "    <tr>\n",
              "      <th>...</th>\n",
              "      <td>...</td>\n",
              "      <td>...</td>\n",
              "      <td>...</td>\n",
              "      <td>...</td>\n",
              "      <td>...</td>\n",
              "      <td>...</td>\n",
              "      <td>...</td>\n",
              "      <td>...</td>\n",
              "      <td>...</td>\n",
              "      <td>...</td>\n",
              "      <td>...</td>\n",
              "    </tr>\n",
              "    <tr>\n",
              "      <th>1729</th>\n",
              "      <td>2021-09-26</td>\n",
              "      <td>22.288462</td>\n",
              "      <td>18.115385</td>\n",
              "      <td>27.261538</td>\n",
              "      <td>0.000000</td>\n",
              "      <td>1.546154</td>\n",
              "      <td>63.0</td>\n",
              "      <td>10.0</td>\n",
              "      <td>69.245967</td>\n",
              "      <td>69.060764</td>\n",
              "      <td>24.256769</td>\n",
              "    </tr>\n",
              "    <tr>\n",
              "      <th>1730</th>\n",
              "      <td>2021-09-27</td>\n",
              "      <td>21.411538</td>\n",
              "      <td>18.503846</td>\n",
              "      <td>25.111538</td>\n",
              "      <td>0.000000</td>\n",
              "      <td>1.526923</td>\n",
              "      <td>66.0</td>\n",
              "      <td>14.0</td>\n",
              "      <td>68.195645</td>\n",
              "      <td>67.325866</td>\n",
              "      <td>23.345132</td>\n",
              "    </tr>\n",
              "    <tr>\n",
              "      <th>1731</th>\n",
              "      <td>2021-09-28</td>\n",
              "      <td>21.157692</td>\n",
              "      <td>19.257692</td>\n",
              "      <td>24.457692</td>\n",
              "      <td>2.423077</td>\n",
              "      <td>1.469231</td>\n",
              "      <td>75.1</td>\n",
              "      <td>14.0</td>\n",
              "      <td>68.428963</td>\n",
              "      <td>66.827528</td>\n",
              "      <td>23.099261</td>\n",
              "    </tr>\n",
              "    <tr>\n",
              "      <th>1732</th>\n",
              "      <td>2021-09-29</td>\n",
              "      <td>20.300000</td>\n",
              "      <td>17.846154</td>\n",
              "      <td>21.907692</td>\n",
              "      <td>10.307692</td>\n",
              "      <td>1.280769</td>\n",
              "      <td>93.5</td>\n",
              "      <td>19.0</td>\n",
              "      <td>68.163195</td>\n",
              "      <td>65.137945</td>\n",
              "      <td>22.281269</td>\n",
              "    </tr>\n",
              "    <tr>\n",
              "      <th>1733</th>\n",
              "      <td>2021-09-30</td>\n",
              "      <td>20.319231</td>\n",
              "      <td>16.215385</td>\n",
              "      <td>26.684615</td>\n",
              "      <td>0.000000</td>\n",
              "      <td>1.030769</td>\n",
              "      <td>83.9</td>\n",
              "      <td>26.0</td>\n",
              "      <td>67.638233</td>\n",
              "      <td>65.171510</td>\n",
              "      <td>22.418872</td>\n",
              "    </tr>\n",
              "  </tbody>\n",
              "</table>\n",
              "<p>1734 rows × 11 columns</p>\n",
              "</div>"
            ],
            "text/plain": [
              "             일시   평균기온(°C)   최저기온(°C)  ...       불쾌지수        열지수       체감온도\n",
              "0    2017-01-01   3.564286  -0.800000  ...  41.011611  31.992959   5.453892\n",
              "1    2017-01-02   5.835714   2.728571  ...  44.396312  36.491280   7.091146\n",
              "2    2017-01-03   2.792857  -1.100000  ...  41.433540  30.458903   4.181575\n",
              "3    2017-01-04   4.489286   1.342857  ...  44.515738  33.814636   6.045646\n",
              "4    2017-01-05   4.671429   0.185714  ...  45.023683  34.174010   5.498446\n",
              "...         ...        ...        ...  ...        ...        ...        ...\n",
              "1729 2021-09-26  22.288462  18.115385  ...  69.245967  69.060764  24.256769\n",
              "1730 2021-09-27  21.411538  18.503846  ...  68.195645  67.325866  23.345132\n",
              "1731 2021-09-28  21.157692  19.257692  ...  68.428963  66.827528  23.099261\n",
              "1732 2021-09-29  20.300000  17.846154  ...  68.163195  65.137945  22.281269\n",
              "1733 2021-09-30  20.319231  16.215385  ...  67.638233  65.171510  22.418872\n",
              "\n",
              "[1734 rows x 11 columns]"
            ]
          },
          "metadata": {},
          "execution_count": 29
        }
      ]
    },
    {
      "cell_type": "code",
      "source": [
        "weather.set_index('일시', inplace=True)\n",
        "weather"
      ],
      "metadata": {
        "colab": {
          "base_uri": "https://localhost:8080/",
          "height": 455
        },
        "id": "rRVXF9jQ1NxT",
        "outputId": "63e37ce1-9fc2-4ab5-e7e6-9b7629bdc010"
      },
      "execution_count": 30,
      "outputs": [
        {
          "output_type": "execute_result",
          "data": {
            "text/html": [
              "<div>\n",
              "<style scoped>\n",
              "    .dataframe tbody tr th:only-of-type {\n",
              "        vertical-align: middle;\n",
              "    }\n",
              "\n",
              "    .dataframe tbody tr th {\n",
              "        vertical-align: top;\n",
              "    }\n",
              "\n",
              "    .dataframe thead th {\n",
              "        text-align: right;\n",
              "    }\n",
              "</style>\n",
              "<table border=\"1\" class=\"dataframe\">\n",
              "  <thead>\n",
              "    <tr style=\"text-align: right;\">\n",
              "      <th></th>\n",
              "      <th>평균기온(°C)</th>\n",
              "      <th>최저기온(°C)</th>\n",
              "      <th>최고기온(°C)</th>\n",
              "      <th>일강수량(mm)</th>\n",
              "      <th>평균 풍속(m/s)</th>\n",
              "      <th>평균 상대습도(%)</th>\n",
              "      <th>일 미세먼지 농도(㎍/㎥)</th>\n",
              "      <th>불쾌지수</th>\n",
              "      <th>열지수</th>\n",
              "      <th>체감온도</th>\n",
              "    </tr>\n",
              "    <tr>\n",
              "      <th>일시</th>\n",
              "      <th></th>\n",
              "      <th></th>\n",
              "      <th></th>\n",
              "      <th></th>\n",
              "      <th></th>\n",
              "      <th></th>\n",
              "      <th></th>\n",
              "      <th></th>\n",
              "      <th></th>\n",
              "      <th></th>\n",
              "    </tr>\n",
              "  </thead>\n",
              "  <tbody>\n",
              "    <tr>\n",
              "      <th>2017-01-01</th>\n",
              "      <td>3.564286</td>\n",
              "      <td>-0.800000</td>\n",
              "      <td>7.525000</td>\n",
              "      <td>0.000000</td>\n",
              "      <td>0.953571</td>\n",
              "      <td>75.9</td>\n",
              "      <td>60.0</td>\n",
              "      <td>41.011611</td>\n",
              "      <td>31.992959</td>\n",
              "      <td>5.453892</td>\n",
              "    </tr>\n",
              "    <tr>\n",
              "      <th>2017-01-02</th>\n",
              "      <td>5.835714</td>\n",
              "      <td>2.728571</td>\n",
              "      <td>9.357143</td>\n",
              "      <td>0.071429</td>\n",
              "      <td>1.492857</td>\n",
              "      <td>77.8</td>\n",
              "      <td>90.0</td>\n",
              "      <td>44.396312</td>\n",
              "      <td>36.491280</td>\n",
              "      <td>7.091146</td>\n",
              "    </tr>\n",
              "    <tr>\n",
              "      <th>2017-01-03</th>\n",
              "      <td>2.792857</td>\n",
              "      <td>-1.100000</td>\n",
              "      <td>7.335714</td>\n",
              "      <td>0.000000</td>\n",
              "      <td>1.278571</td>\n",
              "      <td>61.8</td>\n",
              "      <td>65.0</td>\n",
              "      <td>41.433540</td>\n",
              "      <td>30.458903</td>\n",
              "      <td>4.181575</td>\n",
              "    </tr>\n",
              "    <tr>\n",
              "      <th>2017-01-04</th>\n",
              "      <td>4.489286</td>\n",
              "      <td>1.342857</td>\n",
              "      <td>9.160714</td>\n",
              "      <td>0.000000</td>\n",
              "      <td>1.192857</td>\n",
              "      <td>55.0</td>\n",
              "      <td>47.0</td>\n",
              "      <td>44.515738</td>\n",
              "      <td>33.814636</td>\n",
              "      <td>6.045646</td>\n",
              "    </tr>\n",
              "    <tr>\n",
              "      <th>2017-01-05</th>\n",
              "      <td>4.671429</td>\n",
              "      <td>0.185714</td>\n",
              "      <td>7.867857</td>\n",
              "      <td>0.000000</td>\n",
              "      <td>1.875000</td>\n",
              "      <td>52.3</td>\n",
              "      <td>30.0</td>\n",
              "      <td>45.023683</td>\n",
              "      <td>34.174010</td>\n",
              "      <td>5.498446</td>\n",
              "    </tr>\n",
              "    <tr>\n",
              "      <th>...</th>\n",
              "      <td>...</td>\n",
              "      <td>...</td>\n",
              "      <td>...</td>\n",
              "      <td>...</td>\n",
              "      <td>...</td>\n",
              "      <td>...</td>\n",
              "      <td>...</td>\n",
              "      <td>...</td>\n",
              "      <td>...</td>\n",
              "      <td>...</td>\n",
              "    </tr>\n",
              "    <tr>\n",
              "      <th>2021-09-26</th>\n",
              "      <td>22.288462</td>\n",
              "      <td>18.115385</td>\n",
              "      <td>27.261538</td>\n",
              "      <td>0.000000</td>\n",
              "      <td>1.546154</td>\n",
              "      <td>63.0</td>\n",
              "      <td>10.0</td>\n",
              "      <td>69.245967</td>\n",
              "      <td>69.060764</td>\n",
              "      <td>24.256769</td>\n",
              "    </tr>\n",
              "    <tr>\n",
              "      <th>2021-09-27</th>\n",
              "      <td>21.411538</td>\n",
              "      <td>18.503846</td>\n",
              "      <td>25.111538</td>\n",
              "      <td>0.000000</td>\n",
              "      <td>1.526923</td>\n",
              "      <td>66.0</td>\n",
              "      <td>14.0</td>\n",
              "      <td>68.195645</td>\n",
              "      <td>67.325866</td>\n",
              "      <td>23.345132</td>\n",
              "    </tr>\n",
              "    <tr>\n",
              "      <th>2021-09-28</th>\n",
              "      <td>21.157692</td>\n",
              "      <td>19.257692</td>\n",
              "      <td>24.457692</td>\n",
              "      <td>2.423077</td>\n",
              "      <td>1.469231</td>\n",
              "      <td>75.1</td>\n",
              "      <td>14.0</td>\n",
              "      <td>68.428963</td>\n",
              "      <td>66.827528</td>\n",
              "      <td>23.099261</td>\n",
              "    </tr>\n",
              "    <tr>\n",
              "      <th>2021-09-29</th>\n",
              "      <td>20.300000</td>\n",
              "      <td>17.846154</td>\n",
              "      <td>21.907692</td>\n",
              "      <td>10.307692</td>\n",
              "      <td>1.280769</td>\n",
              "      <td>93.5</td>\n",
              "      <td>19.0</td>\n",
              "      <td>68.163195</td>\n",
              "      <td>65.137945</td>\n",
              "      <td>22.281269</td>\n",
              "    </tr>\n",
              "    <tr>\n",
              "      <th>2021-09-30</th>\n",
              "      <td>20.319231</td>\n",
              "      <td>16.215385</td>\n",
              "      <td>26.684615</td>\n",
              "      <td>0.000000</td>\n",
              "      <td>1.030769</td>\n",
              "      <td>83.9</td>\n",
              "      <td>26.0</td>\n",
              "      <td>67.638233</td>\n",
              "      <td>65.171510</td>\n",
              "      <td>22.418872</td>\n",
              "    </tr>\n",
              "  </tbody>\n",
              "</table>\n",
              "<p>1734 rows × 10 columns</p>\n",
              "</div>"
            ],
            "text/plain": [
              "             평균기온(°C)   최저기온(°C)   최고기온(°C)  ...       불쾌지수        열지수       체감온도\n",
              "일시                                           ...                                 \n",
              "2017-01-01   3.564286  -0.800000   7.525000  ...  41.011611  31.992959   5.453892\n",
              "2017-01-02   5.835714   2.728571   9.357143  ...  44.396312  36.491280   7.091146\n",
              "2017-01-03   2.792857  -1.100000   7.335714  ...  41.433540  30.458903   4.181575\n",
              "2017-01-04   4.489286   1.342857   9.160714  ...  44.515738  33.814636   6.045646\n",
              "2017-01-05   4.671429   0.185714   7.867857  ...  45.023683  34.174010   5.498446\n",
              "...               ...        ...        ...  ...        ...        ...        ...\n",
              "2021-09-26  22.288462  18.115385  27.261538  ...  69.245967  69.060764  24.256769\n",
              "2021-09-27  21.411538  18.503846  25.111538  ...  68.195645  67.325866  23.345132\n",
              "2021-09-28  21.157692  19.257692  24.457692  ...  68.428963  66.827528  23.099261\n",
              "2021-09-29  20.300000  17.846154  21.907692  ...  68.163195  65.137945  22.281269\n",
              "2021-09-30  20.319231  16.215385  26.684615  ...  67.638233  65.171510  22.418872\n",
              "\n",
              "[1734 rows x 10 columns]"
            ]
          },
          "metadata": {},
          "execution_count": 30
        }
      ]
    },
    {
      "cell_type": "code",
      "source": [
        "weather.info()"
      ],
      "metadata": {
        "colab": {
          "base_uri": "https://localhost:8080/"
        },
        "id": "5Zm8YqCw1WtQ",
        "outputId": "fe8567b8-baf7-4379-b434-fc02d1224484"
      },
      "execution_count": 31,
      "outputs": [
        {
          "output_type": "stream",
          "name": "stdout",
          "text": [
            "<class 'pandas.core.frame.DataFrame'>\n",
            "DatetimeIndex: 1734 entries, 2017-01-01 to 2021-09-30\n",
            "Data columns (total 10 columns):\n",
            " #   Column          Non-Null Count  Dtype  \n",
            "---  ------          --------------  -----  \n",
            " 0   평균기온(°C)        1734 non-null   float64\n",
            " 1   최저기온(°C)        1734 non-null   float64\n",
            " 2   최고기온(°C)        1734 non-null   float64\n",
            " 3   일강수량(mm)        1734 non-null   float64\n",
            " 4   평균 풍속(m/s)      1734 non-null   float64\n",
            " 5   평균 상대습도(%)      1734 non-null   float64\n",
            " 6   일 미세먼지 농도(㎍/㎥)  1556 non-null   float64\n",
            " 7   불쾌지수            1734 non-null   float64\n",
            " 8   열지수             1734 non-null   float64\n",
            " 9   체감온도            1734 non-null   float64\n",
            "dtypes: float64(10)\n",
            "memory usage: 149.0 KB\n"
          ]
        }
      ]
    },
    {
      "cell_type": "markdown",
      "source": [
        "Treat Missing Values"
      ],
      "metadata": {
        "id": "rlYohHUP1ARM"
      }
    },
    {
      "cell_type": "code",
      "source": [
        "weather['일 미세먼지 농도(㎍/㎥)'].fillna(0, inplace = True)\n",
        "for i in range(1094):\n",
        "  if weather['일 미세먼지 농도(㎍/㎥)'][i] == 0:\n",
        "    weather['일 미세먼지 농도(㎍/㎥)'][i]=(weather['일 미세먼지 농도(㎍/㎥)'][i-3]+weather['일 미세먼지 농도(㎍/㎥)'][i-2]+weather['일 미세먼지 농도(㎍/㎥)'][i-1])/3"
      ],
      "metadata": {
        "id": "Zb6Y7WVb00DD"
      },
      "execution_count": 32,
      "outputs": []
    },
    {
      "cell_type": "markdown",
      "source": [
        "데이터셋 분리"
      ],
      "metadata": {
        "id": "o3_RbamU1HBM"
      }
    },
    {
      "cell_type": "code",
      "source": [
        "weather_1 = weather.loc[slice('2017-01-01', '2020-02-04'), :]\n",
        "weather_2 = weather.loc[slice('2020-02-05', '2021-09-30'), :]"
      ],
      "metadata": {
        "id": "Ivs8EKlL094e"
      },
      "execution_count": 33,
      "outputs": []
    },
    {
      "cell_type": "code",
      "source": [
        "weather_1.info()"
      ],
      "metadata": {
        "colab": {
          "base_uri": "https://localhost:8080/"
        },
        "id": "NpYODGJG1_SE",
        "outputId": "6fc6089b-a972-4a63-d2a0-7dfe1aca5346"
      },
      "execution_count": 34,
      "outputs": [
        {
          "output_type": "stream",
          "name": "stdout",
          "text": [
            "<class 'pandas.core.frame.DataFrame'>\n",
            "DatetimeIndex: 1130 entries, 2017-01-01 to 2020-02-04\n",
            "Data columns (total 10 columns):\n",
            " #   Column          Non-Null Count  Dtype  \n",
            "---  ------          --------------  -----  \n",
            " 0   평균기온(°C)        1130 non-null   float64\n",
            " 1   최저기온(°C)        1130 non-null   float64\n",
            " 2   최고기온(°C)        1130 non-null   float64\n",
            " 3   일강수량(mm)        1130 non-null   float64\n",
            " 4   평균 풍속(m/s)      1130 non-null   float64\n",
            " 5   평균 상대습도(%)      1130 non-null   float64\n",
            " 6   일 미세먼지 농도(㎍/㎥)  1130 non-null   float64\n",
            " 7   불쾌지수            1130 non-null   float64\n",
            " 8   열지수             1130 non-null   float64\n",
            " 9   체감온도            1130 non-null   float64\n",
            "dtypes: float64(10)\n",
            "memory usage: 97.1 KB\n"
          ]
        }
      ]
    },
    {
      "cell_type": "code",
      "source": [
        "weather_2.info()"
      ],
      "metadata": {
        "colab": {
          "base_uri": "https://localhost:8080/"
        },
        "id": "dIZQzoCt2BRx",
        "outputId": "d5bb7016-8954-4691-9dfb-f5ef9d1bdedb"
      },
      "execution_count": 35,
      "outputs": [
        {
          "output_type": "stream",
          "name": "stdout",
          "text": [
            "<class 'pandas.core.frame.DataFrame'>\n",
            "DatetimeIndex: 604 entries, 2020-02-05 to 2021-09-30\n",
            "Data columns (total 10 columns):\n",
            " #   Column          Non-Null Count  Dtype  \n",
            "---  ------          --------------  -----  \n",
            " 0   평균기온(°C)        604 non-null    float64\n",
            " 1   최저기온(°C)        604 non-null    float64\n",
            " 2   최고기온(°C)        604 non-null    float64\n",
            " 3   일강수량(mm)        604 non-null    float64\n",
            " 4   평균 풍속(m/s)      604 non-null    float64\n",
            " 5   평균 상대습도(%)      604 non-null    float64\n",
            " 6   일 미세먼지 농도(㎍/㎥)  604 non-null    float64\n",
            " 7   불쾌지수            604 non-null    float64\n",
            " 8   열지수             604 non-null    float64\n",
            " 9   체감온도            604 non-null    float64\n",
            "dtypes: float64(10)\n",
            "memory usage: 51.9 KB\n"
          ]
        }
      ]
    },
    {
      "cell_type": "markdown",
      "source": [
        "## 매출 데이터\n",
        "\n",
        "**< 데이터 수집 >** \n",
        "* 출처 : 서울시 빅데이터캠퍼스\n",
        "\n",
        "  \n",
        "**< 데이터 설명 >** \n",
        "- 원데이터 : \n",
        "    - 데이터 날짜 : 2017.01.01 - 2021.09.30 \n",
        "    - 서울시 내의 세부 업종별(대분류, 중분류, 소분류) 카드 매출 건수 \n",
        "- 전처리 후 : \n",
        "    - 데이터 날짜 : 2017.01.01 - 2021.09.30\n",
        "    - 서울시 내의 대분류 업종들의 평균 카드 매출 건수 \n",
        "    - 업종별 데이터셋으로 분리\n",
        "\n",
        "\n"
      ],
      "metadata": {
        "id": "a_Q7UiBqVFbr"
      }
    },
    {
      "cell_type": "code",
      "source": [
        "sales_file = 'sales.csv'\n",
        "\n",
        "sales_path = join(path, sales_file)\n",
        "raw_sales = pd.read_csv(sales_path, index_col = 0)\n",
        "raw_sales.head()"
      ],
      "metadata": {
        "colab": {
          "base_uri": "https://localhost:8080/",
          "height": 206
        },
        "id": "_Gb7ueZoUS9E",
        "outputId": "b9ca034d-0fd2-45a9-cb53-bcb48dca318c"
      },
      "execution_count": 36,
      "outputs": [
        {
          "output_type": "execute_result",
          "data": {
            "text/html": [
              "<div>\n",
              "<style scoped>\n",
              "    .dataframe tbody tr th:only-of-type {\n",
              "        vertical-align: middle;\n",
              "    }\n",
              "\n",
              "    .dataframe tbody tr th {\n",
              "        vertical-align: top;\n",
              "    }\n",
              "\n",
              "    .dataframe thead th {\n",
              "        text-align: right;\n",
              "    }\n",
              "</style>\n",
              "<table border=\"1\" class=\"dataframe\">\n",
              "  <thead>\n",
              "    <tr style=\"text-align: right;\">\n",
              "      <th></th>\n",
              "      <th>일시</th>\n",
              "      <th>성별</th>\n",
              "      <th>연령대별</th>\n",
              "      <th>SB_L_UPJONG_NM</th>\n",
              "      <th>SB_M_UPJONG_NM</th>\n",
              "      <th>SB_UPJONG_NM</th>\n",
              "      <th>counts_total</th>\n",
              "    </tr>\n",
              "  </thead>\n",
              "  <tbody>\n",
              "    <tr>\n",
              "      <th>0</th>\n",
              "      <td>2017-01-01</td>\n",
              "      <td>F</td>\n",
              "      <td>10대</td>\n",
              "      <td>요식/유흥</td>\n",
              "      <td>한식</td>\n",
              "      <td>한식</td>\n",
              "      <td>5080.80</td>\n",
              "    </tr>\n",
              "    <tr>\n",
              "      <th>1</th>\n",
              "      <td>2017-01-01</td>\n",
              "      <td>F</td>\n",
              "      <td>20대</td>\n",
              "      <td>요식/유흥</td>\n",
              "      <td>한식</td>\n",
              "      <td>한식</td>\n",
              "      <td>91946.24</td>\n",
              "    </tr>\n",
              "    <tr>\n",
              "      <th>2</th>\n",
              "      <td>2017-01-01</td>\n",
              "      <td>F</td>\n",
              "      <td>30대</td>\n",
              "      <td>요식/유흥</td>\n",
              "      <td>한식</td>\n",
              "      <td>한식</td>\n",
              "      <td>66022.56</td>\n",
              "    </tr>\n",
              "    <tr>\n",
              "      <th>3</th>\n",
              "      <td>2017-01-01</td>\n",
              "      <td>F</td>\n",
              "      <td>40대</td>\n",
              "      <td>요식/유흥</td>\n",
              "      <td>한식</td>\n",
              "      <td>한식</td>\n",
              "      <td>65178.08</td>\n",
              "    </tr>\n",
              "    <tr>\n",
              "      <th>4</th>\n",
              "      <td>2017-01-01</td>\n",
              "      <td>F</td>\n",
              "      <td>50대</td>\n",
              "      <td>요식/유흥</td>\n",
              "      <td>한식</td>\n",
              "      <td>한식</td>\n",
              "      <td>47341.92</td>\n",
              "    </tr>\n",
              "  </tbody>\n",
              "</table>\n",
              "</div>"
            ],
            "text/plain": [
              "           일시 성별 연령대별 SB_L_UPJONG_NM SB_M_UPJONG_NM SB_UPJONG_NM  counts_total\n",
              "0  2017-01-01  F  10대          요식/유흥             한식           한식       5080.80\n",
              "1  2017-01-01  F  20대          요식/유흥             한식           한식      91946.24\n",
              "2  2017-01-01  F  30대          요식/유흥             한식           한식      66022.56\n",
              "3  2017-01-01  F  40대          요식/유흥             한식           한식      65178.08\n",
              "4  2017-01-01  F  50대          요식/유흥             한식           한식      47341.92"
            ]
          },
          "metadata": {},
          "execution_count": 36
        }
      ]
    },
    {
      "cell_type": "code",
      "source": [
        "raw_sales.info()"
      ],
      "metadata": {
        "colab": {
          "base_uri": "https://localhost:8080/"
        },
        "id": "91O-GkQIXcH6",
        "outputId": "5b713d6f-3325-4379-fced-3f539aa15e7e"
      },
      "execution_count": 37,
      "outputs": [
        {
          "output_type": "stream",
          "name": "stdout",
          "text": [
            "<class 'pandas.core.frame.DataFrame'>\n",
            "Int64Index: 1458340 entries, 0 to 1458339\n",
            "Data columns (total 7 columns):\n",
            " #   Column          Non-Null Count    Dtype  \n",
            "---  ------          --------------    -----  \n",
            " 0   일시              1458340 non-null  object \n",
            " 1   성별              1458340 non-null  object \n",
            " 2   연령대별            1458340 non-null  object \n",
            " 3   SB_L_UPJONG_NM  1458340 non-null  object \n",
            " 4   SB_M_UPJONG_NM  1458340 non-null  object \n",
            " 5   SB_UPJONG_NM    1458340 non-null  object \n",
            " 6   counts_total    1458340 non-null  float64\n",
            "dtypes: float64(1), object(6)\n",
            "memory usage: 89.0+ MB\n"
          ]
        }
      ]
    },
    {
      "cell_type": "markdown",
      "source": [
        "대분류 업종으로 테이블 생성\n",
        "\n"
      ],
      "metadata": {
        "id": "X62nw5Q1ZAel"
      }
    },
    {
      "cell_type": "code",
      "source": [
        "grouped_sales =  raw_sales.groupby(by = ['일시', 'SB_L_UPJONG_NM']).mean()\n",
        "grouped_sales.info()"
      ],
      "metadata": {
        "colab": {
          "base_uri": "https://localhost:8080/"
        },
        "id": "6M39PCz9Ygcx",
        "outputId": "c3e37492-0385-452b-9616-57323b0b7d90"
      },
      "execution_count": 202,
      "outputs": [
        {
          "output_type": "stream",
          "name": "stdout",
          "text": [
            "<class 'pandas.core.frame.DataFrame'>\n",
            "MultiIndex: 22139 entries, ('2017-01-01', '가전/가구') to ('2021-09-30', '주유')\n",
            "Data columns (total 1 columns):\n",
            " #   Column        Non-Null Count  Dtype  \n",
            "---  ------        --------------  -----  \n",
            " 0   counts_total  22139 non-null  float64\n",
            "dtypes: float64(1)\n",
            "memory usage: 251.4+ KB\n"
          ]
        }
      ]
    },
    {
      "cell_type": "code",
      "source": [
        "grouped_sales.reset_index(inplace = True)"
      ],
      "metadata": {
        "id": "9s7Oq3Q3LFGg"
      },
      "execution_count": 203,
      "outputs": []
    },
    {
      "cell_type": "code",
      "source": [
        "grouped_sales.일시 = pd.to_datetime(grouped_sales.일시)"
      ],
      "metadata": {
        "id": "edZqC9xdLL8z"
      },
      "execution_count": 204,
      "outputs": []
    },
    {
      "cell_type": "code",
      "source": [
        "grouped_sales.set_index('일시', inplace=True)"
      ],
      "metadata": {
        "id": "IKOP0LIaMtBL"
      },
      "execution_count": 205,
      "outputs": []
    },
    {
      "cell_type": "code",
      "source": [
        "grouped_sales.info()"
      ],
      "metadata": {
        "colab": {
          "base_uri": "https://localhost:8080/"
        },
        "id": "Ci0AvfKvMU-A",
        "outputId": "4725d462-5863-43b5-81a7-882d9159ba6d"
      },
      "execution_count": 206,
      "outputs": [
        {
          "output_type": "stream",
          "name": "stdout",
          "text": [
            "<class 'pandas.core.frame.DataFrame'>\n",
            "DatetimeIndex: 22139 entries, 2017-01-01 to 2021-09-30\n",
            "Data columns (total 2 columns):\n",
            " #   Column          Non-Null Count  Dtype  \n",
            "---  ------          --------------  -----  \n",
            " 0   SB_L_UPJONG_NM  22139 non-null  object \n",
            " 1   counts_total    22139 non-null  float64\n",
            "dtypes: float64(1), object(1)\n",
            "memory usage: 518.9+ KB\n"
          ]
        }
      ]
    },
    {
      "cell_type": "markdown",
      "source": [
        "Treat Missing Values\n",
        "\n",
        "데이터 수집 당시 2021년 1월 데이터가 존재하지 않았다.\n",
        "\n",
        "따라서, 시계열 데이터임을 감안하여 ARIMA 방법을 이용해 2021.01.01 - 2021.01.31에 대한 예측값으로 대체한다.\n",
        "\n",
        "Split data set\n",
        "  - sales1 : 2017-01-01 to 2020-02-04\n",
        "  - sales2 : 2020-02-05 to 2021-09-30"
      ],
      "metadata": {
        "id": "fXTjXnRl49fI"
      }
    },
    {
      "cell_type": "code",
      "source": [
        "def predict_jan(timeseries):\n",
        "  arima_model = auto_arima(timeseries, start_P=0, d = 0, start_q = 0)\n",
        "  jan_predict = arima_model.predict(n_periods=31)\n",
        "  return jan_predict"
      ],
      "metadata": {
        "id": "M4-6sG0E5BHX"
      },
      "execution_count": 207,
      "outputs": []
    },
    {
      "cell_type": "code",
      "source": [
        "# 2021년 1월 예측 데이터셋 생성 및 코로나 기준 데이터셋 분리\n",
        "sales1 = pd.DataFrame()\n",
        "sales2 = pd.DataFrame()\n",
        "upjong = list(raw_sales.SB_L_UPJONG_NM.unique())\n",
        "\n",
        "for i, el in enumerate(upjong):\n",
        "  temp = grouped_sales.loc[grouped_sales.SB_L_UPJONG_NM == el, :]\n",
        "  temp = temp.resample('D')\n",
        "  temp = temp.first()\n",
        "\n",
        "  temp.loc['2021-01-01':'2021-01-31', 'SB_L_UPJONG_NM'] = [el]*31\n",
        "\n",
        "  timeseries = temp.loc['2017-01-01': '2020-12-31', 'counts_total']\n",
        "  jan_pred = predict_jan(timeseries)\n",
        "  temp.loc['2021-01-01':'2021-01-31', 'counts_total'] = jan_pred\n",
        "\n",
        "  temp1 = temp.loc[:'2020-02-04', :]\n",
        "  temp2 = temp.loc['2020-02-05' :, :]\n",
        "\n",
        "  sales1 = pd.concat([sales1, temp1])\n",
        "  sales2 = pd.concat([sales2, temp2])"
      ],
      "metadata": {
        "id": "CFmmkKRG6MuN"
      },
      "execution_count": 208,
      "outputs": []
    },
    {
      "cell_type": "markdown",
      "source": [
        "# 2. EDA"
      ],
      "metadata": {
        "id": "zHYJCIzR4jjz"
      }
    },
    {
      "cell_type": "markdown",
      "source": [
        "### 1. 상관관계 파악 등\n",
        "### 2. 공적분 관계 파악 후 업종 선택 "
      ],
      "metadata": {
        "id": "Knn_NMIEVSiw"
      }
    },
    {
      "cell_type": "code",
      "source": [
        "sales1['SB_L_UPJONG_NM'].unique()"
      ],
      "metadata": {
        "colab": {
          "base_uri": "https://localhost:8080/"
        },
        "id": "LqDJSSwEWKg7",
        "outputId": "882d1af2-f793-4ff0-cbd6-83ad53b4f865"
      },
      "execution_count": 210,
      "outputs": [
        {
          "output_type": "execute_result",
          "data": {
            "text/plain": [
              "array(['요식/유흥', '유통', '음/식료품', '의류/잡화', '스포츠/문화/레저', '여행/교통', '미용',\n",
              "       '가정생활/서비스', '교육/학원', '의료', '가전/가구', '자동차', '주유'], dtype=object)"
            ]
          },
          "metadata": {},
          "execution_count": 210
        }
      ]
    },
    {
      "cell_type": "code",
      "source": [
        "weather_values_1 = weather_1.columns\n",
        "upjong = sales1['SB_L_UPJONG_NM'].unique()\n",
        "\n",
        "for j in range(len(weather_values_1)):\n",
        "  vars()['upjong_' + str(j)] = {weather_values_1[j] : []}\n",
        "\n",
        "  for i in range(len(upjong)):\n",
        "    A = sales1[sales1['SB_L_UPJONG_NM'] == upjong[i]]\n",
        "    score, p_value, _ = coint(A['counts_total'],weather_1[weather_values_1[j]])\n",
        "\n",
        "    if p_value < 0.05:\n",
        "       vars()['upjong_' + str(j)][weather_values_1[j]].append(upjong[i])"
      ],
      "metadata": {
        "id": "Fw1gKWIRWNKC"
      },
      "execution_count": 213,
      "outputs": []
    },
    {
      "cell_type": "code",
      "source": [
        "intersection = list(set(list(upjong_0.values())[0]) & set(list(upjong_1.values())[0]) & set(list(upjong_2.values())[0])& set(list(upjong_3.values())[0])& set(list(upjong_4.values())[0])& set(list(upjong_5.values())[0])& set(list(upjong_6.values())[0])& set(list(upjong_7.values())[0])& set(list(upjong_8.values())[0])& set(list(upjong_9.values())[0]))"
      ],
      "metadata": {
        "id": "jraFrgQQWhRR"
      },
      "execution_count": 214,
      "outputs": []
    },
    {
      "cell_type": "code",
      "source": [
        "intersection"
      ],
      "metadata": {
        "colab": {
          "base_uri": "https://localhost:8080/"
        },
        "id": "jIRO3kR1WhpY",
        "outputId": "77b99539-7d49-4f44-e0b2-ad24a7c4c3cc"
      },
      "execution_count": 215,
      "outputs": [
        {
          "output_type": "execute_result",
          "data": {
            "text/plain": [
              "['요식/유흥', '가정생활/서비스', '의료', '주유', '교육/학원', '가전/가구']"
            ]
          },
          "metadata": {},
          "execution_count": 215
        }
      ]
    },
    {
      "cell_type": "markdown",
      "source": [
        "# 3. Analyze"
      ],
      "metadata": {
        "id": "AMXn7cYf4lKW"
      }
    },
    {
      "cell_type": "markdown",
      "source": [
        "장기 예측을 위해 공적분 관계를 이용한다."
      ],
      "metadata": {
        "id": "elq-cg4rbI3Q"
      }
    },
    {
      "cell_type": "markdown",
      "source": [
        "코로나19 발생 이전 날씨와 공적분 관계인 업종들 중 코로나19 발생 이후 날씨와 공적분 관계가 유의하지 않은 업종을 선택한다.  \n",
        "코로나 발생 이후 날씨의 영향보다 제 3의 factor의 영향을 받았던 것으로 예상되는 업종을 선발하는 것이다."
      ],
      "metadata": {
        "id": "GJABzBAg4u9J"
      }
    },
    {
      "cell_type": "code",
      "source": [
        "weather_values_2 = weather_2.columns\n",
        "vote = {}\n",
        "select = {}\n",
        "\n",
        "for up_sales in intersection:\n",
        "  vote[up_sales] = {}\n",
        "  for weather_c in weather_values_2:\n",
        "    sales_upjong = sales2.loc[sales2['SB_L_UPJONG_NM'] == up_sales, 'counts_total']\n",
        "    score, p_value, _ = coint(sales_upjong, weather_2[weather_c])\n",
        "    vote[up_sales][weather_c] = p_value\n",
        "  \n",
        "\n",
        "for key, value in vote.items():\n",
        "  select[key] = []\n",
        "  for k, v in value.items():\n",
        "    if v > 0.05:\n",
        "       select[key].append(k)\n",
        "\n",
        "select"
      ],
      "metadata": {
        "colab": {
          "base_uri": "https://localhost:8080/"
        },
        "id": "mWXlNxlW4TfQ",
        "outputId": "bcad8930-f254-40ad-8852-5b60a6dde9b7"
      },
      "execution_count": 227,
      "outputs": [
        {
          "output_type": "execute_result",
          "data": {
            "text/plain": [
              "{'가전/가구': ['평균기온(°C)',\n",
              "  '최저기온(°C)',\n",
              "  '최고기온(°C)',\n",
              "  '일강수량(mm)',\n",
              "  '평균 풍속(m/s)',\n",
              "  '평균 상대습도(%)',\n",
              "  '일 미세먼지 농도(㎍/㎥)',\n",
              "  '불쾌지수',\n",
              "  '열지수',\n",
              "  '체감온도'],\n",
              " '가정생활/서비스': [],\n",
              " '교육/학원': [],\n",
              " '요식/유흥': ['일강수량(mm)', '평균 상대습도(%)', '일 미세먼지 농도(㎍/㎥)'],\n",
              " '의료': ['평균 상대습도(%)'],\n",
              " '주유': ['평균기온(°C)',\n",
              "  '최저기온(°C)',\n",
              "  '최고기온(°C)',\n",
              "  '일강수량(mm)',\n",
              "  '평균 풍속(m/s)',\n",
              "  '평균 상대습도(%)',\n",
              "  '일 미세먼지 농도(㎍/㎥)',\n",
              "  '불쾌지수',\n",
              "  '열지수',\n",
              "  '체감온도']}"
            ]
          },
          "metadata": {},
          "execution_count": 227
        }
      ]
    },
    {
      "cell_type": "markdown",
      "source": [
        "여기서 날씨 데이터의 모든 변수들과 공적분 관계가 아닌 업종을 선택한다."
      ],
      "metadata": {
        "id": "Fn1-LEmueSGS"
      }
    },
    {
      "cell_type": "markdown",
      "source": [
        "코로나 데이터와 공적분 관계 확인"
      ],
      "metadata": {
        "id": "bzl0uP_9Zytf"
      }
    },
    {
      "cell_type": "code",
      "source": [
        "corona_values = corona.columns\n",
        "refuel = sales2.loc[sales2['SB_L_UPJONG_NM'] == '주유']\n",
        "\n",
        "for i in corona_values:\n",
        "  score, p_value, _ = coint(refuel['counts_total'],corona[i])\n",
        "  print(i)\n",
        "  print(p_value)"
      ],
      "metadata": {
        "colab": {
          "base_uri": "https://localhost:8080/"
        },
        "id": "q_Hne-A5YMQa",
        "outputId": "c8e1b213-e861-4eee-9b59-427fa6b30e17"
      },
      "execution_count": 221,
      "outputs": [
        {
          "output_type": "stream",
          "name": "stdout",
          "text": [
            "서울시 추가 확진\n",
            "0.047368105992675165\n",
            "서울시 추가 사망\n",
            "0.16704529905914\n"
          ]
        }
      ]
    },
    {
      "cell_type": "code",
      "source": [
        "corona_values = corona.columns\n",
        "furniture = sales2.loc[sales2['SB_L_UPJONG_NM'] == '가전/가구']\n",
        "\n",
        "for i in corona_values:\n",
        "  score, p_value, _ = coint(furniture['counts_total'],corona[i])\n",
        "  print(i)\n",
        "  print(p_value)"
      ],
      "metadata": {
        "colab": {
          "base_uri": "https://localhost:8080/"
        },
        "id": "ZdueO5hAbo0-",
        "outputId": "c39af784-5062-429e-e70d-ef6a021b8880"
      },
      "execution_count": 222,
      "outputs": [
        {
          "output_type": "stream",
          "name": "stdout",
          "text": [
            "서울시 추가 확진\n",
            "0.07188446005279775\n",
            "서울시 추가 사망\n",
            "0.4521014548247985\n"
          ]
        }
      ]
    },
    {
      "cell_type": "markdown",
      "source": [
        "모든 코로나 데이터의 변수와 공적분 관계가 없는 가전/가구 업종이 아닌 주유 업종을 선택하여 분석을 진행한다."
      ],
      "metadata": {
        "id": "mpfihpz_bxUN"
      }
    },
    {
      "cell_type": "markdown",
      "source": [
        "날씨 이외의 변수와의 관계를 보기위해 주유업종과 다른 업종의 매출 데이터간 공적분 관계를 확인한다."
      ],
      "metadata": {
        "id": "uqU-h8dUeesT"
      }
    },
    {
      "cell_type": "code",
      "source": [
        "refuel = sales2.loc[sales2['SB_L_UPJONG_NM'] == '주유']"
      ],
      "metadata": {
        "id": "H5M3-U9_fAU8"
      },
      "execution_count": 229,
      "outputs": []
    },
    {
      "cell_type": "code",
      "source": [
        "def coint_with_refuel(upjong_name):\n",
        "  temp = sales2.loc[sales2['SB_L_UPJONG_NM'] == upjong_name, 'counts_total']\n",
        "  score, p_value, _ = coint(refuel['counts_total'], temp)\n",
        "\n",
        "  return p_value"
      ],
      "metadata": {
        "id": "CgEh4guVbs23"
      },
      "execution_count": 235,
      "outputs": []
    },
    {
      "cell_type": "code",
      "source": [
        "others = list(sales2['SB_L_UPJONG_NM'].unique())\n",
        "others.remove('주유')\n",
        "\n",
        "others"
      ],
      "metadata": {
        "colab": {
          "base_uri": "https://localhost:8080/"
        },
        "id": "rcuFd0sLfFpU",
        "outputId": "853b3442-e99b-4854-e21a-f259660c10d3"
      },
      "execution_count": 231,
      "outputs": [
        {
          "output_type": "execute_result",
          "data": {
            "text/plain": [
              "['요식/유흥',\n",
              " '유통',\n",
              " '음/식료품',\n",
              " '의류/잡화',\n",
              " '스포츠/문화/레저',\n",
              " '여행/교통',\n",
              " '미용',\n",
              " '가정생활/서비스',\n",
              " '교육/학원',\n",
              " '의료',\n",
              " '가전/가구',\n",
              " '자동차']"
            ]
          },
          "metadata": {},
          "execution_count": 231
        }
      ]
    },
    {
      "cell_type": "code",
      "source": [
        "refuel_coint_results = {}\n",
        "\n",
        "for i, upjong in enumerate(others):\n",
        "  coint_res = coint_with_refuel(upjong)\n",
        "  refuel_coint_results[upjong] = coint_res"
      ],
      "metadata": {
        "id": "osU_ZVJ9fCjL"
      },
      "execution_count": 236,
      "outputs": []
    },
    {
      "cell_type": "code",
      "source": [
        "select_feature = []\n",
        "for k, v in refuel_coint_results.items():\n",
        "  if v < 0.05 :\n",
        "    select_feature.append(k)"
      ],
      "metadata": {
        "id": "wAYKLqrCfe0z"
      },
      "execution_count": 239,
      "outputs": []
    },
    {
      "cell_type": "code",
      "source": [
        "select_feature"
      ],
      "metadata": {
        "colab": {
          "base_uri": "https://localhost:8080/"
        },
        "id": "bpc7NMAafyvI",
        "outputId": "a1456038-3760-42ac-ade2-aa84385a7f04"
      },
      "execution_count": 240,
      "outputs": [
        {
          "output_type": "execute_result",
          "data": {
            "text/plain": [
              "['음/식료품', '가전/가구']"
            ]
          },
          "metadata": {},
          "execution_count": 240
        }
      ]
    },
    {
      "cell_type": "markdown",
      "source": [
        "Overall data set to run model"
      ],
      "metadata": {
        "id": "bUkzoXWOgveJ"
      }
    },
    {
      "cell_type": "code",
      "source": [
        "pd.DataFrame({'가전/가구' : sales2.loc[sales2['SB_L_UPJONG_NM'] =='가전/가구', 'counts_total']})"
      ],
      "metadata": {
        "colab": {
          "base_uri": "https://localhost:8080/",
          "height": 455
        },
        "id": "Ust0L4s6hiUs",
        "outputId": "bcb8e6c8-6125-44ce-85b4-be344c89e68f"
      },
      "execution_count": 245,
      "outputs": [
        {
          "output_type": "execute_result",
          "data": {
            "text/html": [
              "<div>\n",
              "<style scoped>\n",
              "    .dataframe tbody tr th:only-of-type {\n",
              "        vertical-align: middle;\n",
              "    }\n",
              "\n",
              "    .dataframe tbody tr th {\n",
              "        vertical-align: top;\n",
              "    }\n",
              "\n",
              "    .dataframe thead th {\n",
              "        text-align: right;\n",
              "    }\n",
              "</style>\n",
              "<table border=\"1\" class=\"dataframe\">\n",
              "  <thead>\n",
              "    <tr style=\"text-align: right;\">\n",
              "      <th></th>\n",
              "      <th>가전/가구</th>\n",
              "    </tr>\n",
              "    <tr>\n",
              "      <th>일시</th>\n",
              "      <th></th>\n",
              "    </tr>\n",
              "  </thead>\n",
              "  <tbody>\n",
              "    <tr>\n",
              "      <th>2020-02-05</th>\n",
              "      <td>674.586585</td>\n",
              "    </tr>\n",
              "    <tr>\n",
              "      <th>2020-02-06</th>\n",
              "      <td>677.859512</td>\n",
              "    </tr>\n",
              "    <tr>\n",
              "      <th>2020-02-07</th>\n",
              "      <td>689.132927</td>\n",
              "    </tr>\n",
              "    <tr>\n",
              "      <th>2020-02-08</th>\n",
              "      <td>597.490976</td>\n",
              "    </tr>\n",
              "    <tr>\n",
              "      <th>2020-02-09</th>\n",
              "      <td>396.024146</td>\n",
              "    </tr>\n",
              "    <tr>\n",
              "      <th>...</th>\n",
              "      <td>...</td>\n",
              "    </tr>\n",
              "    <tr>\n",
              "      <th>2021-09-26</th>\n",
              "      <td>821.165714</td>\n",
              "    </tr>\n",
              "    <tr>\n",
              "      <th>2021-09-27</th>\n",
              "      <td>1236.244390</td>\n",
              "    </tr>\n",
              "    <tr>\n",
              "      <th>2021-09-28</th>\n",
              "      <td>1209.593000</td>\n",
              "    </tr>\n",
              "    <tr>\n",
              "      <th>2021-09-29</th>\n",
              "      <td>1168.354000</td>\n",
              "    </tr>\n",
              "    <tr>\n",
              "      <th>2021-09-30</th>\n",
              "      <td>1260.180952</td>\n",
              "    </tr>\n",
              "  </tbody>\n",
              "</table>\n",
              "<p>604 rows × 1 columns</p>\n",
              "</div>"
            ],
            "text/plain": [
              "                  가전/가구\n",
              "일시                     \n",
              "2020-02-05   674.586585\n",
              "2020-02-06   677.859512\n",
              "2020-02-07   689.132927\n",
              "2020-02-08   597.490976\n",
              "2020-02-09   396.024146\n",
              "...                 ...\n",
              "2021-09-26   821.165714\n",
              "2021-09-27  1236.244390\n",
              "2021-09-28  1209.593000\n",
              "2021-09-29  1168.354000\n",
              "2021-09-30  1260.180952\n",
              "\n",
              "[604 rows x 1 columns]"
            ]
          },
          "metadata": {},
          "execution_count": 245
        }
      ]
    },
    {
      "cell_type": "code",
      "source": [
        "refuel.drop(columns=['SB_L_UPJONG_NM'], inplace = True)\n",
        "all_df = refuel.rename(columns = {'counts_total' : 'refuel'})\n",
        "\n",
        "for f in select_feature:\n",
        "  temp = pd.DataFrame({f : sales2.loc[sales2['SB_L_UPJONG_NM'] == f, 'counts_total']})\n",
        "  all_df = pd.merge(all_df, temp, left_index=True, right_index=True)"
      ],
      "metadata": {
        "id": "JqU8HY3rgrYm"
      },
      "execution_count": 246,
      "outputs": []
    },
    {
      "cell_type": "code",
      "source": [
        "all_df = pd.merge(all_df, corona, left_index=True, right_index=True)\n",
        "all_df"
      ],
      "metadata": {
        "colab": {
          "base_uri": "https://localhost:8080/",
          "height": 455
        },
        "id": "8d_hKN8ng6QH",
        "outputId": "b6ef8f3c-8be0-4858-b145-32f514d565ff"
      },
      "execution_count": 248,
      "outputs": [
        {
          "output_type": "execute_result",
          "data": {
            "text/html": [
              "<div>\n",
              "<style scoped>\n",
              "    .dataframe tbody tr th:only-of-type {\n",
              "        vertical-align: middle;\n",
              "    }\n",
              "\n",
              "    .dataframe tbody tr th {\n",
              "        vertical-align: top;\n",
              "    }\n",
              "\n",
              "    .dataframe thead th {\n",
              "        text-align: right;\n",
              "    }\n",
              "</style>\n",
              "<table border=\"1\" class=\"dataframe\">\n",
              "  <thead>\n",
              "    <tr style=\"text-align: right;\">\n",
              "      <th></th>\n",
              "      <th>refuel</th>\n",
              "      <th>음/식료품</th>\n",
              "      <th>가전/가구</th>\n",
              "      <th>서울시 추가 확진</th>\n",
              "      <th>서울시 추가 사망</th>\n",
              "    </tr>\n",
              "    <tr>\n",
              "      <th>일시</th>\n",
              "      <th></th>\n",
              "      <th></th>\n",
              "      <th></th>\n",
              "      <th></th>\n",
              "      <th></th>\n",
              "    </tr>\n",
              "  </thead>\n",
              "  <tbody>\n",
              "    <tr>\n",
              "      <th>2020-02-05</th>\n",
              "      <td>7103.418519</td>\n",
              "      <td>6616.726667</td>\n",
              "      <td>674.586585</td>\n",
              "      <td>8</td>\n",
              "      <td>0</td>\n",
              "    </tr>\n",
              "    <tr>\n",
              "      <th>2020-02-06</th>\n",
              "      <td>7374.191481</td>\n",
              "      <td>7142.955000</td>\n",
              "      <td>677.859512</td>\n",
              "      <td>3</td>\n",
              "      <td>0</td>\n",
              "    </tr>\n",
              "    <tr>\n",
              "      <th>2020-02-07</th>\n",
              "      <td>7594.160000</td>\n",
              "      <td>8722.468333</td>\n",
              "      <td>689.132927</td>\n",
              "      <td>0</td>\n",
              "      <td>0</td>\n",
              "    </tr>\n",
              "    <tr>\n",
              "      <th>2020-02-08</th>\n",
              "      <td>7659.835000</td>\n",
              "      <td>8145.593333</td>\n",
              "      <td>597.490976</td>\n",
              "      <td>0</td>\n",
              "      <td>0</td>\n",
              "    </tr>\n",
              "    <tr>\n",
              "      <th>2020-02-09</th>\n",
              "      <td>6582.120741</td>\n",
              "      <td>5438.836667</td>\n",
              "      <td>396.024146</td>\n",
              "      <td>0</td>\n",
              "      <td>0</td>\n",
              "    </tr>\n",
              "    <tr>\n",
              "      <th>...</th>\n",
              "      <td>...</td>\n",
              "      <td>...</td>\n",
              "      <td>...</td>\n",
              "      <td>...</td>\n",
              "      <td>...</td>\n",
              "    </tr>\n",
              "    <tr>\n",
              "      <th>2021-09-26</th>\n",
              "      <td>6737.570714</td>\n",
              "      <td>8618.384762</td>\n",
              "      <td>821.165714</td>\n",
              "      <td>928</td>\n",
              "      <td>2</td>\n",
              "    </tr>\n",
              "    <tr>\n",
              "      <th>2021-09-27</th>\n",
              "      <td>6749.859286</td>\n",
              "      <td>10448.659048</td>\n",
              "      <td>1236.244390</td>\n",
              "      <td>778</td>\n",
              "      <td>1</td>\n",
              "    </tr>\n",
              "    <tr>\n",
              "      <th>2021-09-28</th>\n",
              "      <td>7005.663704</td>\n",
              "      <td>10159.877619</td>\n",
              "      <td>1209.593000</td>\n",
              "      <td>842</td>\n",
              "      <td>2</td>\n",
              "    </tr>\n",
              "    <tr>\n",
              "      <th>2021-09-29</th>\n",
              "      <td>6604.022857</td>\n",
              "      <td>9606.891905</td>\n",
              "      <td>1168.354000</td>\n",
              "      <td>1053</td>\n",
              "      <td>4</td>\n",
              "    </tr>\n",
              "    <tr>\n",
              "      <th>2021-09-30</th>\n",
              "      <td>7909.717037</td>\n",
              "      <td>11232.838571</td>\n",
              "      <td>1260.180952</td>\n",
              "      <td>945</td>\n",
              "      <td>4</td>\n",
              "    </tr>\n",
              "  </tbody>\n",
              "</table>\n",
              "<p>604 rows × 5 columns</p>\n",
              "</div>"
            ],
            "text/plain": [
              "                 refuel         음/식료품        가전/가구  서울시 추가 확진  서울시 추가 사망\n",
              "일시                                                                      \n",
              "2020-02-05  7103.418519   6616.726667   674.586585          8          0\n",
              "2020-02-06  7374.191481   7142.955000   677.859512          3          0\n",
              "2020-02-07  7594.160000   8722.468333   689.132927          0          0\n",
              "2020-02-08  7659.835000   8145.593333   597.490976          0          0\n",
              "2020-02-09  6582.120741   5438.836667   396.024146          0          0\n",
              "...                 ...           ...          ...        ...        ...\n",
              "2021-09-26  6737.570714   8618.384762   821.165714        928          2\n",
              "2021-09-27  6749.859286  10448.659048  1236.244390        778          1\n",
              "2021-09-28  7005.663704  10159.877619  1209.593000        842          2\n",
              "2021-09-29  6604.022857   9606.891905  1168.354000       1053          4\n",
              "2021-09-30  7909.717037  11232.838571  1260.180952        945          4\n",
              "\n",
              "[604 rows x 5 columns]"
            ]
          },
          "metadata": {},
          "execution_count": 248
        }
      ]
    },
    {
      "cell_type": "markdown",
      "source": [
        "### Train Test Data Split\n",
        "\n",
        "시계열 데이터의 양이 적다고 판단된다.\n",
        "따라서 학습 데이터와 테스트 데이터의 비율을 약 9:1로 나눈다."
      ],
      "metadata": {
        "id": "l6iJ5u43idGF"
      }
    },
    {
      "cell_type": "code",
      "source": [
        "n = len(all_df)\n",
        "m = list(range(0,n))[-62:]\n",
        "\n",
        "all_df_int_idx = all_df.reset_index()\n",
        "train = all_df_int_idx.loc[:m[0], :]\n",
        "train.set_index('일시', inplace=True)\n",
        "test = all_df_int_idx.loc[m[0]+1 : m[-1] + 1, :]\n",
        "test.set_index('일시', inplace=True)\n",
        "\n",
        "print(train.info())\n",
        "print(test.info())"
      ],
      "metadata": {
        "colab": {
          "base_uri": "https://localhost:8080/"
        },
        "id": "e4TfdNm4iM1L",
        "outputId": "8a5b0e4e-6f3b-4cb5-d69d-5ebd1b873f02"
      },
      "execution_count": 250,
      "outputs": [
        {
          "output_type": "stream",
          "name": "stdout",
          "text": [
            "<class 'pandas.core.frame.DataFrame'>\n",
            "DatetimeIndex: 543 entries, 2020-02-05 to 2021-07-31\n",
            "Data columns (total 5 columns):\n",
            " #   Column     Non-Null Count  Dtype  \n",
            "---  ------     --------------  -----  \n",
            " 0   refuel     543 non-null    float64\n",
            " 1   음/식료품      543 non-null    float64\n",
            " 2   가전/가구      543 non-null    float64\n",
            " 3   서울시 추가 확진  543 non-null    int64  \n",
            " 4   서울시 추가 사망  543 non-null    int64  \n",
            "dtypes: float64(3), int64(2)\n",
            "memory usage: 25.5 KB\n",
            "None\n",
            "<class 'pandas.core.frame.DataFrame'>\n",
            "DatetimeIndex: 61 entries, 2021-08-01 to 2021-09-30\n",
            "Data columns (total 5 columns):\n",
            " #   Column     Non-Null Count  Dtype  \n",
            "---  ------     --------------  -----  \n",
            " 0   refuel     61 non-null     float64\n",
            " 1   음/식료품      61 non-null     float64\n",
            " 2   가전/가구      61 non-null     float64\n",
            " 3   서울시 추가 확진  61 non-null     int64  \n",
            " 4   서울시 추가 사망  61 non-null     int64  \n",
            "dtypes: float64(3), int64(2)\n",
            "memory usage: 2.9 KB\n",
            "None\n"
          ]
        }
      ]
    },
    {
      "cell_type": "markdown",
      "source": [
        "## 그레인저 인과관계\n",
        "\n",
        "한 변수의 과거 값이 다른 변수의 미래값에 예측이 도움이 되는가?"
      ],
      "metadata": {
        "id": "4hKUpowmi-kZ"
      }
    },
    {
      "cell_type": "markdown",
      "source": [
        "- 비정상 시계열 데이터 여부 확인"
      ],
      "metadata": {
        "id": "Jn3wn-DDjEZf"
      }
    },
    {
      "cell_type": "markdown",
      "source": [
        "The null hypothesis of the Augmented Dickey-Fuller is that there is a unit root, with the alternative that there is no unit root."
      ],
      "metadata": {
        "id": "wafbCBiJmyYf"
      }
    },
    {
      "cell_type": "code",
      "source": [
        "diff_df = pd.DataFrame()"
      ],
      "metadata": {
        "id": "OnzPVo9-kXTD"
      },
      "execution_count": 272,
      "outputs": []
    },
    {
      "cell_type": "code",
      "source": [
        "for c in list(all_df.columns):\n",
        "  result = adfuller(train[c])\n",
        "  if result[1] < 0.05:\n",
        "    print('stationary')\n",
        "    temp = pd.DataFrame({c : train[c][1:]})\n",
        "    diff_df = pd.concat([diff_df, temp], axis = 1)\n",
        "  else:\n",
        "    print('non stationary. So, need to difference')\n",
        "    diff_col = train.loc[:, c].diff().dropna()\n",
        "    result = adfuller(diff_col)\n",
        "    if result[1] < 0.05:\n",
        "      print('stationary')\n",
        "      temp = pd.DataFrame({c+'_diff' : diff_col})\n",
        "      diff_df = pd.concat([diff_df, temp], axis = 1)\n",
        "    else:\n",
        "      print('non stationary')\n"
      ],
      "metadata": {
        "colab": {
          "base_uri": "https://localhost:8080/"
        },
        "id": "YlIHAiXbjICP",
        "outputId": "4adcaa15-1f85-46e8-89c7-1dd263045334"
      },
      "execution_count": 273,
      "outputs": [
        {
          "output_type": "stream",
          "name": "stdout",
          "text": [
            "non stationary. So, need to difference\n",
            "stationary\n",
            "stationary\n",
            "non stationary. So, need to difference\n",
            "stationary\n",
            "non stationary. So, need to difference\n",
            "stationary\n",
            "non stationary. So, need to difference\n",
            "stationary\n"
          ]
        }
      ]
    },
    {
      "cell_type": "code",
      "source": [
        "diff_df"
      ],
      "metadata": {
        "colab": {
          "base_uri": "https://localhost:8080/",
          "height": 455
        },
        "id": "UMjfwQ5-lKe2",
        "outputId": "8ad23412-33fb-41cc-8deb-36072b339e8e"
      },
      "execution_count": 274,
      "outputs": [
        {
          "output_type": "execute_result",
          "data": {
            "text/html": [
              "<div>\n",
              "<style scoped>\n",
              "    .dataframe tbody tr th:only-of-type {\n",
              "        vertical-align: middle;\n",
              "    }\n",
              "\n",
              "    .dataframe tbody tr th {\n",
              "        vertical-align: top;\n",
              "    }\n",
              "\n",
              "    .dataframe thead th {\n",
              "        text-align: right;\n",
              "    }\n",
              "</style>\n",
              "<table border=\"1\" class=\"dataframe\">\n",
              "  <thead>\n",
              "    <tr style=\"text-align: right;\">\n",
              "      <th></th>\n",
              "      <th>refuel_diff</th>\n",
              "      <th>음/식료품</th>\n",
              "      <th>가전/가구_diff</th>\n",
              "      <th>서울시 추가 확진_diff</th>\n",
              "      <th>서울시 추가 사망_diff</th>\n",
              "    </tr>\n",
              "    <tr>\n",
              "      <th>일시</th>\n",
              "      <th></th>\n",
              "      <th></th>\n",
              "      <th></th>\n",
              "      <th></th>\n",
              "      <th></th>\n",
              "    </tr>\n",
              "  </thead>\n",
              "  <tbody>\n",
              "    <tr>\n",
              "      <th>2020-02-06</th>\n",
              "      <td>270.772963</td>\n",
              "      <td>7142.955000</td>\n",
              "      <td>3.272927</td>\n",
              "      <td>-5.0</td>\n",
              "      <td>0.0</td>\n",
              "    </tr>\n",
              "    <tr>\n",
              "      <th>2020-02-07</th>\n",
              "      <td>219.968519</td>\n",
              "      <td>8722.468333</td>\n",
              "      <td>11.273415</td>\n",
              "      <td>-3.0</td>\n",
              "      <td>0.0</td>\n",
              "    </tr>\n",
              "    <tr>\n",
              "      <th>2020-02-08</th>\n",
              "      <td>65.675000</td>\n",
              "      <td>8145.593333</td>\n",
              "      <td>-91.641951</td>\n",
              "      <td>0.0</td>\n",
              "      <td>0.0</td>\n",
              "    </tr>\n",
              "    <tr>\n",
              "      <th>2020-02-09</th>\n",
              "      <td>-1077.714259</td>\n",
              "      <td>5438.836667</td>\n",
              "      <td>-201.466829</td>\n",
              "      <td>0.0</td>\n",
              "      <td>0.0</td>\n",
              "    </tr>\n",
              "    <tr>\n",
              "      <th>2020-02-10</th>\n",
              "      <td>303.906296</td>\n",
              "      <td>7273.003333</td>\n",
              "      <td>330.187520</td>\n",
              "      <td>0.0</td>\n",
              "      <td>0.0</td>\n",
              "    </tr>\n",
              "    <tr>\n",
              "      <th>...</th>\n",
              "      <td>...</td>\n",
              "      <td>...</td>\n",
              "      <td>...</td>\n",
              "      <td>...</td>\n",
              "      <td>...</td>\n",
              "    </tr>\n",
              "    <tr>\n",
              "      <th>2021-07-27</th>\n",
              "      <td>-236.629563</td>\n",
              "      <td>10104.311905</td>\n",
              "      <td>-55.934798</td>\n",
              "      <td>10.0</td>\n",
              "      <td>0.0</td>\n",
              "    </tr>\n",
              "    <tr>\n",
              "      <th>2021-07-28</th>\n",
              "      <td>316.736971</td>\n",
              "      <td>10029.939762</td>\n",
              "      <td>-20.055591</td>\n",
              "      <td>222.0</td>\n",
              "      <td>2.0</td>\n",
              "    </tr>\n",
              "    <tr>\n",
              "      <th>2021-07-29</th>\n",
              "      <td>196.542593</td>\n",
              "      <td>10084.670952</td>\n",
              "      <td>-43.052944</td>\n",
              "      <td>-58.0</td>\n",
              "      <td>-1.0</td>\n",
              "    </tr>\n",
              "    <tr>\n",
              "      <th>2021-07-30</th>\n",
              "      <td>258.825437</td>\n",
              "      <td>10742.403333</td>\n",
              "      <td>61.455383</td>\n",
              "      <td>-28.0</td>\n",
              "      <td>-1.0</td>\n",
              "    </tr>\n",
              "    <tr>\n",
              "      <th>2021-07-31</th>\n",
              "      <td>432.147526</td>\n",
              "      <td>10816.056905</td>\n",
              "      <td>-174.455122</td>\n",
              "      <td>-11.0</td>\n",
              "      <td>2.0</td>\n",
              "    </tr>\n",
              "  </tbody>\n",
              "</table>\n",
              "<p>542 rows × 5 columns</p>\n",
              "</div>"
            ],
            "text/plain": [
              "            refuel_diff         음/식료품  ...  서울시 추가 확진_diff  서울시 추가 사망_diff\n",
              "일시                                     ...                                \n",
              "2020-02-06   270.772963   7142.955000  ...            -5.0             0.0\n",
              "2020-02-07   219.968519   8722.468333  ...            -3.0             0.0\n",
              "2020-02-08    65.675000   8145.593333  ...             0.0             0.0\n",
              "2020-02-09 -1077.714259   5438.836667  ...             0.0             0.0\n",
              "2020-02-10   303.906296   7273.003333  ...             0.0             0.0\n",
              "...                 ...           ...  ...             ...             ...\n",
              "2021-07-27  -236.629563  10104.311905  ...            10.0             0.0\n",
              "2021-07-28   316.736971  10029.939762  ...           222.0             2.0\n",
              "2021-07-29   196.542593  10084.670952  ...           -58.0            -1.0\n",
              "2021-07-30   258.825437  10742.403333  ...           -28.0            -1.0\n",
              "2021-07-31   432.147526  10816.056905  ...           -11.0             2.0\n",
              "\n",
              "[542 rows x 5 columns]"
            ]
          },
          "metadata": {},
          "execution_count": 274
        }
      ]
    },
    {
      "cell_type": "markdown",
      "source": [
        "그레인저 인과관계\n",
        "\n",
        "Granger Causality tests try to determine if one variable(x1) can be used as a predictor of another variable(x2) where the past values of that another variable may or may not help. \n",
        "\n",
        "This means that x1 explains beyond the past values of x2.\n",
        "\n",
        "Two important assumptions here are -\n",
        "1. both x1 and x2 are stationary\n",
        "2. there exists a linear relation between their current and past values.\n",
        "\n",
        "\n",
        "This means that if x1 and x2 are non-stationary, we have to make them stationary before testing for Granger Causality."
      ],
      "metadata": {
        "id": "h37ILGQSmNqc"
      }
    },
    {
      "cell_type": "code",
      "source": [
        "# 음/식료품 -> 주유\n",
        "grangercausalitytests(diff_df[['refuel_diff', '음/식료품']], maxlag=5)"
      ],
      "metadata": {
        "id": "FW34xcwKiuqg"
      },
      "execution_count": null,
      "outputs": []
    },
    {
      "cell_type": "code",
      "source": [
        "# 음/식료품 -> 주유\n",
        "grangercausalitytests(diff_df[['refuel_diff', '가전/가구_diff']], maxlag=5)"
      ],
      "metadata": {
        "id": "Y5ahHtTlnICz"
      },
      "execution_count": null,
      "outputs": []
    },
    {
      "cell_type": "code",
      "source": [
        "# 서울시 추가 확진_diff -> 주유\n",
        "grangercausalitytests(diff_df[['refuel_diff', '서울시 추가 확진_diff']], maxlag=5)"
      ],
      "metadata": {
        "id": "p9lF7j-5mfIv"
      },
      "execution_count": null,
      "outputs": []
    },
    {
      "cell_type": "code",
      "source": [
        "# 서울시 추가 사망_diff -> 주유\n",
        "grangercausalitytests(diff_df[['refuel_diff', '서울시 추가 사망_diff']], maxlag=5)"
      ],
      "metadata": {
        "colab": {
          "base_uri": "https://localhost:8080/"
        },
        "id": "vTMBnMQMnDk0",
        "outputId": "486c2ca6-31d8-40be-d18d-24241eef6b41"
      },
      "execution_count": 280,
      "outputs": [
        {
          "output_type": "stream",
          "name": "stdout",
          "text": [
            "\n",
            "Granger Causality\n",
            "number of lags (no zero) 1\n",
            "ssr based F test:         F=0.0485  , p=0.8258  , df_denom=538, df_num=1\n",
            "ssr based chi2 test:   chi2=0.0488  , p=0.8252  , df=1\n",
            "likelihood ratio test: chi2=0.0488  , p=0.8252  , df=1\n",
            "parameter F test:         F=0.0485  , p=0.8258  , df_denom=538, df_num=1\n",
            "\n",
            "Granger Causality\n",
            "number of lags (no zero) 2\n",
            "ssr based F test:         F=0.1892  , p=0.8277  , df_denom=535, df_num=2\n",
            "ssr based chi2 test:   chi2=0.3819  , p=0.8262  , df=2\n",
            "likelihood ratio test: chi2=0.3817  , p=0.8262  , df=2\n",
            "parameter F test:         F=0.1892  , p=0.8277  , df_denom=535, df_num=2\n",
            "\n",
            "Granger Causality\n",
            "number of lags (no zero) 3\n",
            "ssr based F test:         F=0.2333  , p=0.8731  , df_denom=532, df_num=3\n",
            "ssr based chi2 test:   chi2=0.7092  , p=0.8710  , df=3\n",
            "likelihood ratio test: chi2=0.7088  , p=0.8711  , df=3\n",
            "parameter F test:         F=0.2333  , p=0.8731  , df_denom=532, df_num=3\n",
            "\n",
            "Granger Causality\n",
            "number of lags (no zero) 4\n",
            "ssr based F test:         F=0.7616  , p=0.5506  , df_denom=529, df_num=4\n",
            "ssr based chi2 test:   chi2=3.0983  , p=0.5415  , df=4\n",
            "likelihood ratio test: chi2=3.0894  , p=0.5430  , df=4\n",
            "parameter F test:         F=0.7616  , p=0.5506  , df_denom=529, df_num=4\n",
            "\n",
            "Granger Causality\n",
            "number of lags (no zero) 5\n",
            "ssr based F test:         F=0.6172  , p=0.6868  , df_denom=526, df_num=5\n",
            "ssr based chi2 test:   chi2=3.1504  , p=0.6768  , df=5\n",
            "likelihood ratio test: chi2=3.1412  , p=0.6782  , df=5\n",
            "parameter F test:         F=0.6172  , p=0.6868  , df_denom=526, df_num=5\n"
          ]
        },
        {
          "output_type": "execute_result",
          "data": {
            "text/plain": [
              "{1: ({'lrtest': (0.04876227276872669, 0.8252311790664121, 1),\n",
              "   'params_ftest': (0.04849405743629611, 0.8257882920032122, 538.0, 1.0),\n",
              "   'ssr_chi2test': (0.04876447039597795, 0.8252273044527707, 1),\n",
              "   'ssr_ftest': (0.048494057436296, 0.8257882920032122, 538.0, 1)},\n",
              "  [<statsmodels.regression.linear_model.RegressionResultsWrapper at 0x7f1c78646350>,\n",
              "   <statsmodels.regression.linear_model.RegressionResultsWrapper at 0x7f1c78646e50>,\n",
              "   array([[0., 1., 0.]])]),\n",
              " 2: ({'lrtest': (0.38174185333627975, 0.8262392267188543, 2),\n",
              "   'params_ftest': (0.18917046047047695, 0.8277007497461433, 535.0, 2.0),\n",
              "   'ssr_chi2test': (0.38187681739837087, 0.8261834722989377, 2),\n",
              "   'ssr_ftest': (0.18917046047048927, 0.8277007497460941, 535.0, 2)},\n",
              "  [<statsmodels.regression.linear_model.RegressionResultsWrapper at 0x7f1c78671510>,\n",
              "   <statsmodels.regression.linear_model.RegressionResultsWrapper at 0x7f1c786630d0>,\n",
              "   array([[0., 0., 1., 0., 0.],\n",
              "          [0., 0., 0., 1., 0.]])]),\n",
              " 3: ({'lrtest': (0.7087832142151456, 0.8711361297484043, 3),\n",
              "   'params_ftest': (0.23334613687545439, 0.8731486381915057, 532.0, 3.0),\n",
              "   'ssr_chi2test': (0.709249442345097, 0.8710262606111493, 3),\n",
              "   'ssr_ftest': (0.23334613687544314, 0.8731486381915057, 532.0, 3)},\n",
              "  [<statsmodels.regression.linear_model.RegressionResultsWrapper at 0x7f1c78663190>,\n",
              "   <statsmodels.regression.linear_model.RegressionResultsWrapper at 0x7f1c78663ad0>,\n",
              "   array([[0., 0., 0., 1., 0., 0., 0.],\n",
              "          [0., 0., 0., 0., 1., 0., 0.],\n",
              "          [0., 0., 0., 0., 0., 1., 0.]])]),\n",
              " 4: ({'lrtest': (3.089398456413619, 0.5429778419300604, 4),\n",
              "   'params_ftest': (0.7616139113982917, 0.5505804491028046, 529.0, 4.0),\n",
              "   'ssr_chi2test': (3.098285703835751, 0.5415143644441753, 4),\n",
              "   'ssr_ftest': (0.7616139113982865, 0.5505804491028046, 529.0, 4)},\n",
              "  [<statsmodels.regression.linear_model.RegressionResultsWrapper at 0x7f1c78663410>,\n",
              "   <statsmodels.regression.linear_model.RegressionResultsWrapper at 0x7f1c78b9dc90>,\n",
              "   array([[0., 0., 0., 0., 1., 0., 0., 0., 0.],\n",
              "          [0., 0., 0., 0., 0., 1., 0., 0., 0.],\n",
              "          [0., 0., 0., 0., 0., 0., 1., 0., 0.],\n",
              "          [0., 0., 0., 0., 0., 0., 0., 1., 0.]])]),\n",
              " 5: ({'lrtest': (3.1411939602894563, 0.6782282781018355, 5),\n",
              "   'params_ftest': (0.6171731655735387, 0.6867891824151986, 526.0, 5.0),\n",
              "   'ssr_chi2test': (3.150399143659642, 0.6768114540199726, 5),\n",
              "   'ssr_ftest': (0.6171731655735463, 0.6867891824151986, 526.0, 5)},\n",
              "  [<statsmodels.regression.linear_model.RegressionResultsWrapper at 0x7f1c78192410>,\n",
              "   <statsmodels.regression.linear_model.RegressionResultsWrapper at 0x7f1c78192550>,\n",
              "   array([[0., 0., 0., 0., 0., 1., 0., 0., 0., 0., 0.],\n",
              "          [0., 0., 0., 0., 0., 0., 1., 0., 0., 0., 0.],\n",
              "          [0., 0., 0., 0., 0., 0., 0., 1., 0., 0., 0.],\n",
              "          [0., 0., 0., 0., 0., 0., 0., 0., 1., 0., 0.],\n",
              "          [0., 0., 0., 0., 0., 0., 0., 0., 0., 1., 0.]])])}"
            ]
          },
          "metadata": {},
          "execution_count": 280
        }
      ]
    },
    {
      "cell_type": "markdown",
      "source": [
        "유의수준 0.05하에서 서울시 추가 사망 데이터는 주유 데이터와 그레인저 인과관계가 없다고 할 수 있다.\n",
        "\n",
        "명확한 분석을 위해 서울시 추가 사망 변수는 제거하기로 한다."
      ],
      "metadata": {
        "id": "v65OzTMlnRx5"
      }
    },
    {
      "cell_type": "code",
      "source": [
        "train.drop(columns=['서울시 추가 사망'], inplace = True)\n",
        "test.drop(columns=['서울시 추가 사망'], inplace = True)"
      ],
      "metadata": {
        "id": "hITowJwOnQQR"
      },
      "execution_count": 282,
      "outputs": []
    },
    {
      "cell_type": "markdown",
      "source": [
        "# VECM Model"
      ],
      "metadata": {
        "id": "hOt2k4oZnxm_"
      }
    },
    {
      "cell_type": "markdown",
      "source": [
        "### VECM Parameters"
      ],
      "metadata": {
        "id": "ZpQRZbezn16p"
      }
    },
    {
      "cell_type": "code",
      "source": [
        "lag_order = select_order(data=train, maxlags=5, deterministic=\"ci\")\n",
        "lag_order.summary()"
      ],
      "metadata": {
        "colab": {
          "base_uri": "https://localhost:8080/",
          "height": 203
        },
        "id": "R2VtlnRDnqnY",
        "outputId": "26c9b064-c18e-4584-878f-b2907b4c7d45"
      },
      "execution_count": 284,
      "outputs": [
        {
          "output_type": "execute_result",
          "data": {
            "text/html": [
              "<table class=\"simpletable\">\n",
              "<caption>VECM Order Selection (* highlights the minimums)</caption>\n",
              "<tr>\n",
              "  <td></td>      <th>AIC</th>         <th>BIC</th>         <th>FPE</th>        <th>HQIC</th>    \n",
              "</tr>\n",
              "<tr>\n",
              "  <th>0</th> <td>     43.38</td>  <td>     43.58</td>  <td> 6.938e+18</td>  <td>     43.46</td> \n",
              "</tr>\n",
              "<tr>\n",
              "  <th>1</th> <td>     42.96</td>  <td>     43.28</td>  <td> 4.531e+18</td>  <td>     43.08</td> \n",
              "</tr>\n",
              "<tr>\n",
              "  <th>2</th> <td>     42.81</td>  <td>     43.26</td>  <td> 3.923e+18</td>  <td>     42.99</td> \n",
              "</tr>\n",
              "<tr>\n",
              "  <th>3</th> <td>     42.73</td>  <td>     43.31</td>  <td> 3.614e+18</td>  <td>     42.96</td> \n",
              "</tr>\n",
              "<tr>\n",
              "  <th>4</th> <td>     42.67</td>  <td>     43.37</td>  <td> 3.400e+18</td>  <td>     42.95</td> \n",
              "</tr>\n",
              "<tr>\n",
              "  <th>5</th> <td>     42.21*</td> <td>     43.04*</td> <td> 2.144e+18*</td> <td>     42.53*</td>\n",
              "</tr>\n",
              "</table>"
            ],
            "text/plain": [
              "<class 'statsmodels.iolib.table.SimpleTable'>"
            ]
          },
          "metadata": {},
          "execution_count": 284
        }
      ]
    },
    {
      "cell_type": "markdown",
      "source": [
        "2. Cointegration Rank"
      ],
      "metadata": {
        "id": "LSSICem8n6FU"
      }
    },
    {
      "cell_type": "code",
      "source": [
        "rank_test = select_coint_rank(train, 0, 3, method=\"trace\", signif=0.05)\n",
        "rank_test.rank"
      ],
      "metadata": {
        "colab": {
          "base_uri": "https://localhost:8080/"
        },
        "id": "rJqFQa56n54w",
        "outputId": "f3aada4a-a75b-4df3-b691-c8711fa2394b"
      },
      "execution_count": 285,
      "outputs": [
        {
          "output_type": "execute_result",
          "data": {
            "text/plain": [
              "3"
            ]
          },
          "metadata": {},
          "execution_count": 285
        }
      ]
    },
    {
      "cell_type": "code",
      "source": [
        "rank_test.summary()"
      ],
      "metadata": {
        "colab": {
          "base_uri": "https://localhost:8080/",
          "height": 178
        },
        "id": "CW-scllin3TC",
        "outputId": "ccb874b9-663c-402a-b1b4-e3edd387ea85"
      },
      "execution_count": 286,
      "outputs": [
        {
          "output_type": "execute_result",
          "data": {
            "text/html": [
              "<table class=\"simpletable\">\n",
              "<caption>Johansen cointegration test using trace test statistic with 5% significance level</caption>\n",
              "<tr>\n",
              "  <th>r_0</th> <th>r_1</th> <th>test statistic</th> <th>critical value</th>\n",
              "</tr>\n",
              "<tr>\n",
              "    <td>0</td>   <td>4</td>          <td>260.5</td>          <td>47.85</td>\n",
              "</tr>\n",
              "<tr>\n",
              "    <td>1</td>   <td>4</td>          <td>92.83</td>          <td>29.80</td>\n",
              "</tr>\n",
              "<tr>\n",
              "    <td>2</td>   <td>4</td>          <td>27.17</td>          <td>15.49</td>\n",
              "</tr>\n",
              "<tr>\n",
              "    <td>3</td>   <td>4</td>         <td>0.2126</td>          <td>3.841</td>\n",
              "</tr>\n",
              "</table>"
            ],
            "text/plain": [
              "<class 'statsmodels.iolib.table.SimpleTable'>"
            ]
          },
          "metadata": {},
          "execution_count": 286
        }
      ]
    },
    {
      "cell_type": "markdown",
      "source": [
        "### Model fitting"
      ],
      "metadata": {
        "id": "fCo-SQ33n_ld"
      }
    },
    {
      "cell_type": "code",
      "source": [
        "model = VECM(train, deterministic=\"ci\", \n",
        "             k_ar_diff=lag_order.aic,  \n",
        "             coint_rank=rank_test.rank)  "
      ],
      "metadata": {
        "id": "g_WKcPMcn8tS"
      },
      "execution_count": 287,
      "outputs": []
    },
    {
      "cell_type": "code",
      "source": [
        "vecm_fit = model.fit()"
      ],
      "metadata": {
        "id": "00Oc3M_CoCY4"
      },
      "execution_count": 288,
      "outputs": []
    },
    {
      "cell_type": "code",
      "source": [
        "vecm_fit.summary()"
      ],
      "metadata": {
        "colab": {
          "base_uri": "https://localhost:8080/",
          "height": 1000
        },
        "id": "BnMiELIDoFCK",
        "outputId": "5903691c-c7b4-42ba-d723-9f6e83ea22c4"
      },
      "execution_count": 289,
      "outputs": [
        {
          "output_type": "execute_result",
          "data": {
            "text/html": [
              "<table class=\"simpletable\">\n",
              "<caption>Det. terms outside the coint. relation & lagged endog. parameters for equation refuel</caption>\n",
              "<tr>\n",
              "        <td></td>          <th>coef</th>     <th>std err</th>      <th>z</th>      <th>P>|z|</th>  <th>[0.025</th>    <th>0.975]</th>  \n",
              "</tr>\n",
              "<tr>\n",
              "  <th>L1.refuel</th>    <td>   -0.3752</td> <td>    0.076</td> <td>   -4.956</td> <td> 0.000</td> <td>   -0.524</td> <td>   -0.227</td>\n",
              "</tr>\n",
              "<tr>\n",
              "  <th>L1.음/식료품</th>     <td>    0.0286</td> <td>    0.030</td> <td>    0.960</td> <td> 0.337</td> <td>   -0.030</td> <td>    0.087</td>\n",
              "</tr>\n",
              "<tr>\n",
              "  <th>L1.가전/가구</th>     <td>    0.0766</td> <td>    0.312</td> <td>    0.246</td> <td> 0.806</td> <td>   -0.535</td> <td>    0.688</td>\n",
              "</tr>\n",
              "<tr>\n",
              "  <th>L1.서울시 추가 확진</th> <td>   -0.9757</td> <td>    0.563</td> <td>   -1.732</td> <td> 0.083</td> <td>   -2.080</td> <td>    0.128</td>\n",
              "</tr>\n",
              "<tr>\n",
              "  <th>L2.refuel</th>    <td>   -0.3856</td> <td>    0.070</td> <td>   -5.535</td> <td> 0.000</td> <td>   -0.522</td> <td>   -0.249</td>\n",
              "</tr>\n",
              "<tr>\n",
              "  <th>L2.음/식료품</th>     <td>    0.0410</td> <td>    0.029</td> <td>    1.422</td> <td> 0.155</td> <td>   -0.016</td> <td>    0.098</td>\n",
              "</tr>\n",
              "<tr>\n",
              "  <th>L2.가전/가구</th>     <td>    0.2606</td> <td>    0.300</td> <td>    0.867</td> <td> 0.386</td> <td>   -0.328</td> <td>    0.849</td>\n",
              "</tr>\n",
              "<tr>\n",
              "  <th>L2.서울시 추가 확진</th> <td>   -0.9756</td> <td>    0.612</td> <td>   -1.594</td> <td> 0.111</td> <td>   -2.175</td> <td>    0.224</td>\n",
              "</tr>\n",
              "<tr>\n",
              "  <th>L3.refuel</th>    <td>   -0.2740</td> <td>    0.064</td> <td>   -4.291</td> <td> 0.000</td> <td>   -0.399</td> <td>   -0.149</td>\n",
              "</tr>\n",
              "<tr>\n",
              "  <th>L3.음/식료품</th>     <td>   -0.0319</td> <td>    0.028</td> <td>   -1.154</td> <td> 0.249</td> <td>   -0.086</td> <td>    0.022</td>\n",
              "</tr>\n",
              "<tr>\n",
              "  <th>L3.가전/가구</th>     <td>    0.8092</td> <td>    0.284</td> <td>    2.851</td> <td> 0.004</td> <td>    0.253</td> <td>    1.366</td>\n",
              "</tr>\n",
              "<tr>\n",
              "  <th>L3.서울시 추가 확진</th> <td>    0.0718</td> <td>    0.639</td> <td>    0.112</td> <td> 0.910</td> <td>   -1.180</td> <td>    1.324</td>\n",
              "</tr>\n",
              "<tr>\n",
              "  <th>L4.refuel</th>    <td>   -0.3044</td> <td>    0.057</td> <td>   -5.377</td> <td> 0.000</td> <td>   -0.415</td> <td>   -0.193</td>\n",
              "</tr>\n",
              "<tr>\n",
              "  <th>L4.음/식료품</th>     <td>   -0.0176</td> <td>    0.025</td> <td>   -0.694</td> <td> 0.488</td> <td>   -0.068</td> <td>    0.032</td>\n",
              "</tr>\n",
              "<tr>\n",
              "  <th>L4.가전/가구</th>     <td>    1.5637</td> <td>    0.253</td> <td>    6.170</td> <td> 0.000</td> <td>    1.067</td> <td>    2.060</td>\n",
              "</tr>\n",
              "<tr>\n",
              "  <th>L4.서울시 추가 확진</th> <td>   -0.5493</td> <td>    0.617</td> <td>   -0.890</td> <td> 0.374</td> <td>   -1.759</td> <td>    0.661</td>\n",
              "</tr>\n",
              "<tr>\n",
              "  <th>L5.refuel</th>    <td>   -0.2827</td> <td>    0.052</td> <td>   -5.452</td> <td> 0.000</td> <td>   -0.384</td> <td>   -0.181</td>\n",
              "</tr>\n",
              "<tr>\n",
              "  <th>L5.음/식료품</th>     <td>    0.0164</td> <td>    0.023</td> <td>    0.714</td> <td> 0.475</td> <td>   -0.029</td> <td>    0.062</td>\n",
              "</tr>\n",
              "<tr>\n",
              "  <th>L5.가전/가구</th>     <td>    1.8714</td> <td>    0.193</td> <td>    9.691</td> <td> 0.000</td> <td>    1.493</td> <td>    2.250</td>\n",
              "</tr>\n",
              "<tr>\n",
              "  <th>L5.서울시 추가 확진</th> <td>    0.1688</td> <td>    0.569</td> <td>    0.297</td> <td> 0.767</td> <td>   -0.947</td> <td>    1.284</td>\n",
              "</tr>\n",
              "</table>\n",
              "<table class=\"simpletable\">\n",
              "<caption>Det. terms outside the coint. relation & lagged endog. parameters for equation 음/식료품</caption>\n",
              "<tr>\n",
              "        <td></td>          <th>coef</th>     <th>std err</th>      <th>z</th>      <th>P>|z|</th>  <th>[0.025</th>    <th>0.975]</th>  \n",
              "</tr>\n",
              "<tr>\n",
              "  <th>L1.refuel</th>    <td>   -0.6279</td> <td>    0.216</td> <td>   -2.908</td> <td> 0.004</td> <td>   -1.051</td> <td>   -0.205</td>\n",
              "</tr>\n",
              "<tr>\n",
              "  <th>L1.음/식료품</th>     <td>   -0.1503</td> <td>    0.085</td> <td>   -1.771</td> <td> 0.077</td> <td>   -0.317</td> <td>    0.016</td>\n",
              "</tr>\n",
              "<tr>\n",
              "  <th>L1.가전/가구</th>     <td>    0.9572</td> <td>    0.890</td> <td>    1.076</td> <td> 0.282</td> <td>   -0.787</td> <td>    2.701</td>\n",
              "</tr>\n",
              "<tr>\n",
              "  <th>L1.서울시 추가 확진</th> <td>   -2.6162</td> <td>    1.607</td> <td>   -1.628</td> <td> 0.104</td> <td>   -5.766</td> <td>    0.533</td>\n",
              "</tr>\n",
              "<tr>\n",
              "  <th>L2.refuel</th>    <td>   -0.4833</td> <td>    0.199</td> <td>   -2.432</td> <td> 0.015</td> <td>   -0.873</td> <td>   -0.094</td>\n",
              "</tr>\n",
              "<tr>\n",
              "  <th>L2.음/식료품</th>     <td>   -0.0957</td> <td>    0.082</td> <td>   -1.163</td> <td> 0.245</td> <td>   -0.257</td> <td>    0.066</td>\n",
              "</tr>\n",
              "<tr>\n",
              "  <th>L2.가전/가구</th>     <td>    0.9813</td> <td>    0.857</td> <td>    1.145</td> <td> 0.252</td> <td>   -0.699</td> <td>    2.661</td>\n",
              "</tr>\n",
              "<tr>\n",
              "  <th>L2.서울시 추가 확진</th> <td>   -2.6252</td> <td>    1.746</td> <td>   -1.503</td> <td> 0.133</td> <td>   -6.048</td> <td>    0.797</td>\n",
              "</tr>\n",
              "<tr>\n",
              "  <th>L3.refuel</th>    <td>   -0.2882</td> <td>    0.182</td> <td>   -1.582</td> <td> 0.114</td> <td>   -0.645</td> <td>    0.069</td>\n",
              "</tr>\n",
              "<tr>\n",
              "  <th>L3.음/식료품</th>     <td>   -0.1264</td> <td>    0.079</td> <td>   -1.605</td> <td> 0.109</td> <td>   -0.281</td> <td>    0.028</td>\n",
              "</tr>\n",
              "<tr>\n",
              "  <th>L3.가전/가구</th>     <td>    1.3906</td> <td>    0.810</td> <td>    1.717</td> <td> 0.086</td> <td>   -0.196</td> <td>    2.978</td>\n",
              "</tr>\n",
              "<tr>\n",
              "  <th>L3.서울시 추가 확진</th> <td>   -1.9423</td> <td>    1.822</td> <td>   -1.066</td> <td> 0.286</td> <td>   -5.513</td> <td>    1.628</td>\n",
              "</tr>\n",
              "<tr>\n",
              "  <th>L4.refuel</th>    <td>   -0.3000</td> <td>    0.161</td> <td>   -1.858</td> <td> 0.063</td> <td>   -0.617</td> <td>    0.016</td>\n",
              "</tr>\n",
              "<tr>\n",
              "  <th>L4.음/식료품</th>     <td>   -0.1555</td> <td>    0.073</td> <td>   -2.142</td> <td> 0.032</td> <td>   -0.298</td> <td>   -0.013</td>\n",
              "</tr>\n",
              "<tr>\n",
              "  <th>L4.가전/가구</th>     <td>    2.9089</td> <td>    0.723</td> <td>    4.024</td> <td> 0.000</td> <td>    1.492</td> <td>    4.326</td>\n",
              "</tr>\n",
              "<tr>\n",
              "  <th>L4.서울시 추가 확진</th> <td>   -5.3656</td> <td>    1.761</td> <td>   -3.046</td> <td> 0.002</td> <td>   -8.818</td> <td>   -1.913</td>\n",
              "</tr>\n",
              "<tr>\n",
              "  <th>L5.refuel</th>    <td>   -0.3342</td> <td>    0.148</td> <td>   -2.260</td> <td> 0.024</td> <td>   -0.624</td> <td>   -0.044</td>\n",
              "</tr>\n",
              "<tr>\n",
              "  <th>L5.음/식료품</th>     <td>    0.0035</td> <td>    0.066</td> <td>    0.054</td> <td> 0.957</td> <td>   -0.125</td> <td>    0.132</td>\n",
              "</tr>\n",
              "<tr>\n",
              "  <th>L5.가전/가구</th>     <td>    3.0822</td> <td>    0.551</td> <td>    5.595</td> <td> 0.000</td> <td>    2.003</td> <td>    4.162</td>\n",
              "</tr>\n",
              "<tr>\n",
              "  <th>L5.서울시 추가 확진</th> <td>    0.4220</td> <td>    1.624</td> <td>    0.260</td> <td> 0.795</td> <td>   -2.760</td> <td>    3.604</td>\n",
              "</tr>\n",
              "</table>\n",
              "<table class=\"simpletable\">\n",
              "<caption>Det. terms outside the coint. relation & lagged endog. parameters for equation 가전/가구</caption>\n",
              "<tr>\n",
              "        <td></td>          <th>coef</th>     <th>std err</th>      <th>z</th>      <th>P>|z|</th>  <th>[0.025</th>    <th>0.975]</th>  \n",
              "</tr>\n",
              "<tr>\n",
              "  <th>L1.refuel</th>    <td>   -0.0844</td> <td>    0.017</td> <td>   -4.832</td> <td> 0.000</td> <td>   -0.119</td> <td>   -0.050</td>\n",
              "</tr>\n",
              "<tr>\n",
              "  <th>L1.음/식료품</th>     <td>   -0.0156</td> <td>    0.007</td> <td>   -2.278</td> <td> 0.023</td> <td>   -0.029</td> <td>   -0.002</td>\n",
              "</tr>\n",
              "<tr>\n",
              "  <th>L1.가전/가구</th>     <td>   -0.3362</td> <td>    0.072</td> <td>   -4.669</td> <td> 0.000</td> <td>   -0.477</td> <td>   -0.195</td>\n",
              "</tr>\n",
              "<tr>\n",
              "  <th>L1.서울시 추가 확진</th> <td>   -0.2665</td> <td>    0.130</td> <td>   -2.050</td> <td> 0.040</td> <td>   -0.521</td> <td>   -0.012</td>\n",
              "</tr>\n",
              "<tr>\n",
              "  <th>L2.refuel</th>    <td>   -0.0300</td> <td>    0.016</td> <td>   -1.863</td> <td> 0.062</td> <td>   -0.061</td> <td>    0.002</td>\n",
              "</tr>\n",
              "<tr>\n",
              "  <th>L2.음/식료품</th>     <td>   -0.0090</td> <td>    0.007</td> <td>   -1.353</td> <td> 0.176</td> <td>   -0.022</td> <td>    0.004</td>\n",
              "</tr>\n",
              "<tr>\n",
              "  <th>L2.가전/가구</th>     <td>   -0.3404</td> <td>    0.069</td> <td>   -4.909</td> <td> 0.000</td> <td>   -0.476</td> <td>   -0.205</td>\n",
              "</tr>\n",
              "<tr>\n",
              "  <th>L2.서울시 추가 확진</th> <td>   -0.3916</td> <td>    0.141</td> <td>   -2.772</td> <td> 0.006</td> <td>   -0.669</td> <td>   -0.115</td>\n",
              "</tr>\n",
              "<tr>\n",
              "  <th>L3.refuel</th>    <td>   -0.0131</td> <td>    0.015</td> <td>   -0.889</td> <td> 0.374</td> <td>   -0.042</td> <td>    0.016</td>\n",
              "</tr>\n",
              "<tr>\n",
              "  <th>L3.음/식료품</th>     <td>   -0.0201</td> <td>    0.006</td> <td>   -3.156</td> <td> 0.002</td> <td>   -0.033</td> <td>   -0.008</td>\n",
              "</tr>\n",
              "<tr>\n",
              "  <th>L3.가전/가구</th>     <td>   -0.1888</td> <td>    0.066</td> <td>   -2.882</td> <td> 0.004</td> <td>   -0.317</td> <td>   -0.060</td>\n",
              "</tr>\n",
              "<tr>\n",
              "  <th>L3.서울시 추가 확진</th> <td>   -0.2261</td> <td>    0.147</td> <td>   -1.534</td> <td> 0.125</td> <td>   -0.515</td> <td>    0.063</td>\n",
              "</tr>\n",
              "<tr>\n",
              "  <th>L4.refuel</th>    <td>   -0.0002</td> <td>    0.013</td> <td>   -0.017</td> <td> 0.986</td> <td>   -0.026</td> <td>    0.025</td>\n",
              "</tr>\n",
              "<tr>\n",
              "  <th>L4.음/식료품</th>     <td>   -0.0212</td> <td>    0.006</td> <td>   -3.604</td> <td> 0.000</td> <td>   -0.033</td> <td>   -0.010</td>\n",
              "</tr>\n",
              "<tr>\n",
              "  <th>L4.가전/가구</th>     <td>   -0.0938</td> <td>    0.058</td> <td>   -1.603</td> <td> 0.109</td> <td>   -0.208</td> <td>    0.021</td>\n",
              "</tr>\n",
              "<tr>\n",
              "  <th>L4.서울시 추가 확진</th> <td>   -0.4181</td> <td>    0.143</td> <td>   -2.934</td> <td> 0.003</td> <td>   -0.697</td> <td>   -0.139</td>\n",
              "</tr>\n",
              "<tr>\n",
              "  <th>L5.refuel</th>    <td>   -0.0124</td> <td>    0.012</td> <td>   -1.037</td> <td> 0.300</td> <td>   -0.036</td> <td>    0.011</td>\n",
              "</tr>\n",
              "<tr>\n",
              "  <th>L5.음/식료품</th>     <td>   -0.0122</td> <td>    0.005</td> <td>   -2.303</td> <td> 0.021</td> <td>   -0.023</td> <td>   -0.002</td>\n",
              "</tr>\n",
              "<tr>\n",
              "  <th>L5.가전/가구</th>     <td>   -0.0765</td> <td>    0.045</td> <td>   -1.716</td> <td> 0.086</td> <td>   -0.164</td> <td>    0.011</td>\n",
              "</tr>\n",
              "<tr>\n",
              "  <th>L5.서울시 추가 확진</th> <td>    0.1126</td> <td>    0.131</td> <td>    0.857</td> <td> 0.391</td> <td>   -0.145</td> <td>    0.370</td>\n",
              "</tr>\n",
              "</table>\n",
              "<table class=\"simpletable\">\n",
              "<caption>Det. terms outside the coint. relation & lagged endog. parameters for equation 서울시 추가 확진</caption>\n",
              "<tr>\n",
              "        <td></td>          <th>coef</th>     <th>std err</th>      <th>z</th>      <th>P>|z|</th>  <th>[0.025</th>    <th>0.975]</th>  \n",
              "</tr>\n",
              "<tr>\n",
              "  <th>L1.refuel</th>    <td>   -0.0010</td> <td>    0.006</td> <td>   -0.183</td> <td> 0.855</td> <td>   -0.012</td> <td>    0.010</td>\n",
              "</tr>\n",
              "<tr>\n",
              "  <th>L1.음/식료품</th>     <td>    0.0022</td> <td>    0.002</td> <td>    0.991</td> <td> 0.322</td> <td>   -0.002</td> <td>    0.007</td>\n",
              "</tr>\n",
              "<tr>\n",
              "  <th>L1.가전/가구</th>     <td>   -0.0413</td> <td>    0.023</td> <td>   -1.762</td> <td> 0.078</td> <td>   -0.087</td> <td>    0.005</td>\n",
              "</tr>\n",
              "<tr>\n",
              "  <th>L1.서울시 추가 확진</th> <td>   -0.4423</td> <td>    0.042</td> <td>  -10.451</td> <td> 0.000</td> <td>   -0.525</td> <td>   -0.359</td>\n",
              "</tr>\n",
              "<tr>\n",
              "  <th>L2.refuel</th>    <td>   -0.0108</td> <td>    0.005</td> <td>   -2.054</td> <td> 0.040</td> <td>   -0.021</td> <td>   -0.000</td>\n",
              "</tr>\n",
              "<tr>\n",
              "  <th>L2.음/식료품</th>     <td>    0.0002</td> <td>    0.002</td> <td>    0.081</td> <td> 0.936</td> <td>   -0.004</td> <td>    0.004</td>\n",
              "</tr>\n",
              "<tr>\n",
              "  <th>L2.가전/가구</th>     <td>    0.0453</td> <td>    0.023</td> <td>    2.006</td> <td> 0.045</td> <td>    0.001</td> <td>    0.090</td>\n",
              "</tr>\n",
              "<tr>\n",
              "  <th>L2.서울시 추가 확진</th> <td>   -0.3898</td> <td>    0.046</td> <td>   -8.476</td> <td> 0.000</td> <td>   -0.480</td> <td>   -0.300</td>\n",
              "</tr>\n",
              "<tr>\n",
              "  <th>L3.refuel</th>    <td>   -0.0086</td> <td>    0.005</td> <td>   -1.795</td> <td> 0.073</td> <td>   -0.018</td> <td>    0.001</td>\n",
              "</tr>\n",
              "<tr>\n",
              "  <th>L3.음/식료품</th>     <td>   -0.0006</td> <td>    0.002</td> <td>   -0.271</td> <td> 0.786</td> <td>   -0.005</td> <td>    0.004</td>\n",
              "</tr>\n",
              "<tr>\n",
              "  <th>L3.가전/가구</th>     <td>    0.0187</td> <td>    0.021</td> <td>    0.878</td> <td> 0.380</td> <td>   -0.023</td> <td>    0.061</td>\n",
              "</tr>\n",
              "<tr>\n",
              "  <th>L3.서울시 추가 확진</th> <td>   -0.2382</td> <td>    0.048</td> <td>   -4.966</td> <td> 0.000</td> <td>   -0.332</td> <td>   -0.144</td>\n",
              "</tr>\n",
              "<tr>\n",
              "  <th>L4.refuel</th>    <td>   -0.0043</td> <td>    0.004</td> <td>   -1.013</td> <td> 0.311</td> <td>   -0.013</td> <td>    0.004</td>\n",
              "</tr>\n",
              "<tr>\n",
              "  <th>L4.음/식료품</th>     <td>    0.0003</td> <td>    0.002</td> <td>    0.141</td> <td> 0.888</td> <td>   -0.003</td> <td>    0.004</td>\n",
              "</tr>\n",
              "<tr>\n",
              "  <th>L4.가전/가구</th>     <td>   -0.0099</td> <td>    0.019</td> <td>   -0.519</td> <td> 0.604</td> <td>   -0.047</td> <td>    0.027</td>\n",
              "</tr>\n",
              "<tr>\n",
              "  <th>L4.서울시 추가 확진</th> <td>   -0.1606</td> <td>    0.046</td> <td>   -3.462</td> <td> 0.001</td> <td>   -0.251</td> <td>   -0.070</td>\n",
              "</tr>\n",
              "<tr>\n",
              "  <th>L5.refuel</th>    <td>   -0.0046</td> <td>    0.004</td> <td>   -1.183</td> <td> 0.237</td> <td>   -0.012</td> <td>    0.003</td>\n",
              "</tr>\n",
              "<tr>\n",
              "  <th>L5.음/식료품</th>     <td>   -0.0023</td> <td>    0.002</td> <td>   -1.356</td> <td> 0.175</td> <td>   -0.006</td> <td>    0.001</td>\n",
              "</tr>\n",
              "<tr>\n",
              "  <th>L5.가전/가구</th>     <td>    0.0083</td> <td>    0.015</td> <td>    0.573</td> <td> 0.566</td> <td>   -0.020</td> <td>    0.037</td>\n",
              "</tr>\n",
              "<tr>\n",
              "  <th>L5.서울시 추가 확진</th> <td>   -0.2438</td> <td>    0.043</td> <td>   -5.703</td> <td> 0.000</td> <td>   -0.328</td> <td>   -0.160</td>\n",
              "</tr>\n",
              "</table>\n",
              "<table class=\"simpletable\">\n",
              "<caption>Loading coefficients (alpha) for equation refuel</caption>\n",
              "<tr>\n",
              "   <td></td>      <th>coef</th>     <th>std err</th>      <th>z</th>      <th>P>|z|</th>  <th>[0.025</th>    <th>0.975]</th>  \n",
              "</tr>\n",
              "<tr>\n",
              "  <th>ec1</th> <td>   -0.3527</td> <td>    0.078</td> <td>   -4.541</td> <td> 0.000</td> <td>   -0.505</td> <td>   -0.200</td>\n",
              "</tr>\n",
              "<tr>\n",
              "  <th>ec2</th> <td>   -0.1140</td> <td>    0.026</td> <td>   -4.397</td> <td> 0.000</td> <td>   -0.165</td> <td>   -0.063</td>\n",
              "</tr>\n",
              "<tr>\n",
              "  <th>ec3</th> <td>    1.3393</td> <td>    0.261</td> <td>    5.122</td> <td> 0.000</td> <td>    0.827</td> <td>    1.852</td>\n",
              "</tr>\n",
              "</table>\n",
              "<table class=\"simpletable\">\n",
              "<caption>Loading coefficients (alpha) for equation 음/식료품</caption>\n",
              "<tr>\n",
              "   <td></td>      <th>coef</th>     <th>std err</th>      <th>z</th>      <th>P>|z|</th>  <th>[0.025</th>    <th>0.975]</th>  \n",
              "</tr>\n",
              "<tr>\n",
              "  <th>ec1</th> <td>    0.0365</td> <td>    0.222</td> <td>    0.165</td> <td> 0.869</td> <td>   -0.398</td> <td>    0.471</td>\n",
              "</tr>\n",
              "<tr>\n",
              "  <th>ec2</th> <td>   -0.5231</td> <td>    0.074</td> <td>   -7.074</td> <td> 0.000</td> <td>   -0.668</td> <td>   -0.378</td>\n",
              "</tr>\n",
              "<tr>\n",
              "  <th>ec3</th> <td>    2.1554</td> <td>    0.746</td> <td>    2.890</td> <td> 0.004</td> <td>    0.693</td> <td>    3.617</td>\n",
              "</tr>\n",
              "</table>\n",
              "<table class=\"simpletable\">\n",
              "<caption>Loading coefficients (alpha) for equation 가전/가구</caption>\n",
              "<tr>\n",
              "   <td></td>      <th>coef</th>     <th>std err</th>      <th>z</th>      <th>P>|z|</th>  <th>[0.025</th>    <th>0.975]</th>  \n",
              "</tr>\n",
              "<tr>\n",
              "  <th>ec1</th> <td>   -0.0112</td> <td>    0.018</td> <td>   -0.624</td> <td> 0.533</td> <td>   -0.046</td> <td>    0.024</td>\n",
              "</tr>\n",
              "<tr>\n",
              "  <th>ec2</th> <td>   -0.0247</td> <td>    0.006</td> <td>   -4.132</td> <td> 0.000</td> <td>   -0.036</td> <td>   -0.013</td>\n",
              "</tr>\n",
              "<tr>\n",
              "  <th>ec3</th> <td>    0.0474</td> <td>    0.060</td> <td>    0.785</td> <td> 0.432</td> <td>   -0.071</td> <td>    0.166</td>\n",
              "</tr>\n",
              "</table>\n",
              "<table class=\"simpletable\">\n",
              "<caption>Loading coefficients (alpha) for equation 서울시 추가 확진</caption>\n",
              "<tr>\n",
              "   <td></td>      <th>coef</th>     <th>std err</th>      <th>z</th>      <th>P>|z|</th>  <th>[0.025</th>    <th>0.975]</th>  \n",
              "</tr>\n",
              "<tr>\n",
              "  <th>ec1</th> <td>   -0.0003</td> <td>    0.006</td> <td>   -0.055</td> <td> 0.956</td> <td>   -0.012</td> <td>    0.011</td>\n",
              "</tr>\n",
              "<tr>\n",
              "  <th>ec2</th> <td>   -0.0002</td> <td>    0.002</td> <td>   -0.113</td> <td> 0.910</td> <td>   -0.004</td> <td>    0.004</td>\n",
              "</tr>\n",
              "<tr>\n",
              "  <th>ec3</th> <td>    0.0276</td> <td>    0.020</td> <td>    1.405</td> <td> 0.160</td> <td>   -0.011</td> <td>    0.066</td>\n",
              "</tr>\n",
              "</table>\n",
              "<table class=\"simpletable\">\n",
              "<caption>Cointegration relations for loading-coefficients-column 1</caption>\n",
              "<tr>\n",
              "     <td></td>       <th>coef</th>     <th>std err</th>      <th>z</th>      <th>P>|z|</th>  <th>[0.025</th>    <th>0.975]</th>  \n",
              "</tr>\n",
              "<tr>\n",
              "  <th>beta.1</th> <td>    1.0000</td> <td>        0</td> <td>        0</td> <td> 0.000</td> <td>    1.000</td> <td>    1.000</td>\n",
              "</tr>\n",
              "<tr>\n",
              "  <th>beta.2</th> <td> 1.505e-17</td> <td>        0</td> <td>        0</td> <td> 0.000</td> <td> 1.51e-17</td> <td> 1.51e-17</td>\n",
              "</tr>\n",
              "<tr>\n",
              "  <th>beta.3</th> <td>-1.125e-16</td> <td>        0</td> <td>        0</td> <td> 0.000</td> <td>-1.12e-16</td> <td>-1.12e-16</td>\n",
              "</tr>\n",
              "<tr>\n",
              "  <th>beta.4</th> <td>   -1.8540</td> <td>    0.772</td> <td>   -2.402</td> <td> 0.016</td> <td>   -3.367</td> <td>   -0.341</td>\n",
              "</tr>\n",
              "<tr>\n",
              "  <th>const</th>  <td>-6842.9622</td> <td>    1.469</td> <td>-4658.998</td> <td> 0.000</td> <td>-6845.841</td> <td>-6840.084</td>\n",
              "</tr>\n",
              "</table>\n",
              "<table class=\"simpletable\">\n",
              "<caption>Cointegration relations for loading-coefficients-column 2</caption>\n",
              "<tr>\n",
              "     <td></td>       <th>coef</th>     <th>std err</th>      <th>z</th>      <th>P>|z|</th>  <th>[0.025</th>    <th>0.975]</th>  \n",
              "</tr>\n",
              "<tr>\n",
              "  <th>beta.1</th> <td>-4.811e-18</td> <td>        0</td> <td>        0</td> <td> 0.000</td> <td>-4.81e-18</td> <td>-4.81e-18</td>\n",
              "</tr>\n",
              "<tr>\n",
              "  <th>beta.2</th> <td>    1.0000</td> <td>        0</td> <td>        0</td> <td> 0.000</td> <td>    1.000</td> <td>    1.000</td>\n",
              "</tr>\n",
              "<tr>\n",
              "  <th>beta.3</th> <td>-4.089e-16</td> <td>        0</td> <td>        0</td> <td> 0.000</td> <td>-4.09e-16</td> <td>-4.09e-16</td>\n",
              "</tr>\n",
              "<tr>\n",
              "  <th>beta.4</th> <td>   -3.8245</td> <td>    0.278</td> <td>  -13.776</td> <td> 0.000</td> <td>   -4.369</td> <td>   -3.280</td>\n",
              "</tr>\n",
              "<tr>\n",
              "  <th>const</th>  <td>-8563.1778</td> <td>  131.815</td> <td>  -64.963</td> <td> 0.000</td> <td>-8821.531</td> <td>-8304.824</td>\n",
              "</tr>\n",
              "</table>\n",
              "<table class=\"simpletable\">\n",
              "<caption>Cointegration relations for loading-coefficients-column 3</caption>\n",
              "<tr>\n",
              "     <td></td>       <th>coef</th>     <th>std err</th>      <th>z</th>      <th>P>|z|</th>  <th>[0.025</th>    <th>0.975]</th>  \n",
              "</tr>\n",
              "<tr>\n",
              "  <th>beta.1</th> <td>-7.478e-18</td> <td>        0</td> <td>        0</td> <td> 0.000</td> <td>-7.48e-18</td> <td>-7.48e-18</td>\n",
              "</tr>\n",
              "<tr>\n",
              "  <th>beta.2</th> <td>-1.682e-17</td> <td>        0</td> <td>        0</td> <td> 0.000</td> <td>-1.68e-17</td> <td>-1.68e-17</td>\n",
              "</tr>\n",
              "<tr>\n",
              "  <th>beta.3</th> <td>    1.0000</td> <td>        0</td> <td>        0</td> <td> 0.000</td> <td>    1.000</td> <td>    1.000</td>\n",
              "</tr>\n",
              "<tr>\n",
              "  <th>beta.4</th> <td>   -0.3798</td> <td>  250.783</td> <td>   -0.002</td> <td> 0.999</td> <td> -491.905</td> <td>  491.146</td>\n",
              "</tr>\n",
              "<tr>\n",
              "  <th>const</th>  <td> -743.9243</td> <td>   47.401</td> <td>  -15.694</td> <td> 0.000</td> <td> -836.828</td> <td> -651.021</td>\n",
              "</tr>\n",
              "</table>"
            ],
            "text/plain": [
              "<class 'statsmodels.iolib.summary.Summary'>\n",
              "\"\"\"\n",
              "Det. terms outside the coint. relation & lagged endog. parameters for equation refuel\n",
              "================================================================================\n",
              "                   coef    std err          z      P>|z|      [0.025      0.975]\n",
              "--------------------------------------------------------------------------------\n",
              "L1.refuel       -0.3752      0.076     -4.956      0.000      -0.524      -0.227\n",
              "L1.음/식료품         0.0286      0.030      0.960      0.337      -0.030       0.087\n",
              "L1.가전/가구         0.0766      0.312      0.246      0.806      -0.535       0.688\n",
              "L1.서울시 추가 확진    -0.9757      0.563     -1.732      0.083      -2.080       0.128\n",
              "L2.refuel       -0.3856      0.070     -5.535      0.000      -0.522      -0.249\n",
              "L2.음/식료품         0.0410      0.029      1.422      0.155      -0.016       0.098\n",
              "L2.가전/가구         0.2606      0.300      0.867      0.386      -0.328       0.849\n",
              "L2.서울시 추가 확진    -0.9756      0.612     -1.594      0.111      -2.175       0.224\n",
              "L3.refuel       -0.2740      0.064     -4.291      0.000      -0.399      -0.149\n",
              "L3.음/식료품        -0.0319      0.028     -1.154      0.249      -0.086       0.022\n",
              "L3.가전/가구         0.8092      0.284      2.851      0.004       0.253       1.366\n",
              "L3.서울시 추가 확진     0.0718      0.639      0.112      0.910      -1.180       1.324\n",
              "L4.refuel       -0.3044      0.057     -5.377      0.000      -0.415      -0.193\n",
              "L4.음/식료품        -0.0176      0.025     -0.694      0.488      -0.068       0.032\n",
              "L4.가전/가구         1.5637      0.253      6.170      0.000       1.067       2.060\n",
              "L4.서울시 추가 확진    -0.5493      0.617     -0.890      0.374      -1.759       0.661\n",
              "L5.refuel       -0.2827      0.052     -5.452      0.000      -0.384      -0.181\n",
              "L5.음/식료품         0.0164      0.023      0.714      0.475      -0.029       0.062\n",
              "L5.가전/가구         1.8714      0.193      9.691      0.000       1.493       2.250\n",
              "L5.서울시 추가 확진     0.1688      0.569      0.297      0.767      -0.947       1.284\n",
              "Det. terms outside the coint. relation & lagged endog. parameters for equation 음/식료품\n",
              "================================================================================\n",
              "                   coef    std err          z      P>|z|      [0.025      0.975]\n",
              "--------------------------------------------------------------------------------\n",
              "L1.refuel       -0.6279      0.216     -2.908      0.004      -1.051      -0.205\n",
              "L1.음/식료품        -0.1503      0.085     -1.771      0.077      -0.317       0.016\n",
              "L1.가전/가구         0.9572      0.890      1.076      0.282      -0.787       2.701\n",
              "L1.서울시 추가 확진    -2.6162      1.607     -1.628      0.104      -5.766       0.533\n",
              "L2.refuel       -0.4833      0.199     -2.432      0.015      -0.873      -0.094\n",
              "L2.음/식료품        -0.0957      0.082     -1.163      0.245      -0.257       0.066\n",
              "L2.가전/가구         0.9813      0.857      1.145      0.252      -0.699       2.661\n",
              "L2.서울시 추가 확진    -2.6252      1.746     -1.503      0.133      -6.048       0.797\n",
              "L3.refuel       -0.2882      0.182     -1.582      0.114      -0.645       0.069\n",
              "L3.음/식료품        -0.1264      0.079     -1.605      0.109      -0.281       0.028\n",
              "L3.가전/가구         1.3906      0.810      1.717      0.086      -0.196       2.978\n",
              "L3.서울시 추가 확진    -1.9423      1.822     -1.066      0.286      -5.513       1.628\n",
              "L4.refuel       -0.3000      0.161     -1.858      0.063      -0.617       0.016\n",
              "L4.음/식료품        -0.1555      0.073     -2.142      0.032      -0.298      -0.013\n",
              "L4.가전/가구         2.9089      0.723      4.024      0.000       1.492       4.326\n",
              "L4.서울시 추가 확진    -5.3656      1.761     -3.046      0.002      -8.818      -1.913\n",
              "L5.refuel       -0.3342      0.148     -2.260      0.024      -0.624      -0.044\n",
              "L5.음/식료품         0.0035      0.066      0.054      0.957      -0.125       0.132\n",
              "L5.가전/가구         3.0822      0.551      5.595      0.000       2.003       4.162\n",
              "L5.서울시 추가 확진     0.4220      1.624      0.260      0.795      -2.760       3.604\n",
              "Det. terms outside the coint. relation & lagged endog. parameters for equation 가전/가구\n",
              "================================================================================\n",
              "                   coef    std err          z      P>|z|      [0.025      0.975]\n",
              "--------------------------------------------------------------------------------\n",
              "L1.refuel       -0.0844      0.017     -4.832      0.000      -0.119      -0.050\n",
              "L1.음/식료품        -0.0156      0.007     -2.278      0.023      -0.029      -0.002\n",
              "L1.가전/가구        -0.3362      0.072     -4.669      0.000      -0.477      -0.195\n",
              "L1.서울시 추가 확진    -0.2665      0.130     -2.050      0.040      -0.521      -0.012\n",
              "L2.refuel       -0.0300      0.016     -1.863      0.062      -0.061       0.002\n",
              "L2.음/식료품        -0.0090      0.007     -1.353      0.176      -0.022       0.004\n",
              "L2.가전/가구        -0.3404      0.069     -4.909      0.000      -0.476      -0.205\n",
              "L2.서울시 추가 확진    -0.3916      0.141     -2.772      0.006      -0.669      -0.115\n",
              "L3.refuel       -0.0131      0.015     -0.889      0.374      -0.042       0.016\n",
              "L3.음/식료품        -0.0201      0.006     -3.156      0.002      -0.033      -0.008\n",
              "L3.가전/가구        -0.1888      0.066     -2.882      0.004      -0.317      -0.060\n",
              "L3.서울시 추가 확진    -0.2261      0.147     -1.534      0.125      -0.515       0.063\n",
              "L4.refuel       -0.0002      0.013     -0.017      0.986      -0.026       0.025\n",
              "L4.음/식료품        -0.0212      0.006     -3.604      0.000      -0.033      -0.010\n",
              "L4.가전/가구        -0.0938      0.058     -1.603      0.109      -0.208       0.021\n",
              "L4.서울시 추가 확진    -0.4181      0.143     -2.934      0.003      -0.697      -0.139\n",
              "L5.refuel       -0.0124      0.012     -1.037      0.300      -0.036       0.011\n",
              "L5.음/식료품        -0.0122      0.005     -2.303      0.021      -0.023      -0.002\n",
              "L5.가전/가구        -0.0765      0.045     -1.716      0.086      -0.164       0.011\n",
              "L5.서울시 추가 확진     0.1126      0.131      0.857      0.391      -0.145       0.370\n",
              "Det. terms outside the coint. relation & lagged endog. parameters for equation 서울시 추가 확진\n",
              "================================================================================\n",
              "                   coef    std err          z      P>|z|      [0.025      0.975]\n",
              "--------------------------------------------------------------------------------\n",
              "L1.refuel       -0.0010      0.006     -0.183      0.855      -0.012       0.010\n",
              "L1.음/식료품         0.0022      0.002      0.991      0.322      -0.002       0.007\n",
              "L1.가전/가구        -0.0413      0.023     -1.762      0.078      -0.087       0.005\n",
              "L1.서울시 추가 확진    -0.4423      0.042    -10.451      0.000      -0.525      -0.359\n",
              "L2.refuel       -0.0108      0.005     -2.054      0.040      -0.021      -0.000\n",
              "L2.음/식료품         0.0002      0.002      0.081      0.936      -0.004       0.004\n",
              "L2.가전/가구         0.0453      0.023      2.006      0.045       0.001       0.090\n",
              "L2.서울시 추가 확진    -0.3898      0.046     -8.476      0.000      -0.480      -0.300\n",
              "L3.refuel       -0.0086      0.005     -1.795      0.073      -0.018       0.001\n",
              "L3.음/식료품        -0.0006      0.002     -0.271      0.786      -0.005       0.004\n",
              "L3.가전/가구         0.0187      0.021      0.878      0.380      -0.023       0.061\n",
              "L3.서울시 추가 확진    -0.2382      0.048     -4.966      0.000      -0.332      -0.144\n",
              "L4.refuel       -0.0043      0.004     -1.013      0.311      -0.013       0.004\n",
              "L4.음/식료품         0.0003      0.002      0.141      0.888      -0.003       0.004\n",
              "L4.가전/가구        -0.0099      0.019     -0.519      0.604      -0.047       0.027\n",
              "L4.서울시 추가 확진    -0.1606      0.046     -3.462      0.001      -0.251      -0.070\n",
              "L5.refuel       -0.0046      0.004     -1.183      0.237      -0.012       0.003\n",
              "L5.음/식료품        -0.0023      0.002     -1.356      0.175      -0.006       0.001\n",
              "L5.가전/가구         0.0083      0.015      0.573      0.566      -0.020       0.037\n",
              "L5.서울시 추가 확진    -0.2438      0.043     -5.703      0.000      -0.328      -0.160\n",
              "               Loading coefficients (alpha) for equation refuel               \n",
              "==============================================================================\n",
              "                 coef    std err          z      P>|z|      [0.025      0.975]\n",
              "------------------------------------------------------------------------------\n",
              "ec1           -0.3527      0.078     -4.541      0.000      -0.505      -0.200\n",
              "ec2           -0.1140      0.026     -4.397      0.000      -0.165      -0.063\n",
              "ec3            1.3393      0.261      5.122      0.000       0.827       1.852\n",
              "               Loading coefficients (alpha) for equation 음/식료품                \n",
              "==============================================================================\n",
              "                 coef    std err          z      P>|z|      [0.025      0.975]\n",
              "------------------------------------------------------------------------------\n",
              "ec1            0.0365      0.222      0.165      0.869      -0.398       0.471\n",
              "ec2           -0.5231      0.074     -7.074      0.000      -0.668      -0.378\n",
              "ec3            2.1554      0.746      2.890      0.004       0.693       3.617\n",
              "               Loading coefficients (alpha) for equation 가전/가구                \n",
              "==============================================================================\n",
              "                 coef    std err          z      P>|z|      [0.025      0.975]\n",
              "------------------------------------------------------------------------------\n",
              "ec1           -0.0112      0.018     -0.624      0.533      -0.046       0.024\n",
              "ec2           -0.0247      0.006     -4.132      0.000      -0.036      -0.013\n",
              "ec3            0.0474      0.060      0.785      0.432      -0.071       0.166\n",
              "             Loading coefficients (alpha) for equation 서울시 추가 확진              \n",
              "==============================================================================\n",
              "                 coef    std err          z      P>|z|      [0.025      0.975]\n",
              "------------------------------------------------------------------------------\n",
              "ec1           -0.0003      0.006     -0.055      0.956      -0.012       0.011\n",
              "ec2           -0.0002      0.002     -0.113      0.910      -0.004       0.004\n",
              "ec3            0.0276      0.020      1.405      0.160      -0.011       0.066\n",
              "          Cointegration relations for loading-coefficients-column 1           \n",
              "==============================================================================\n",
              "                 coef    std err          z      P>|z|      [0.025      0.975]\n",
              "------------------------------------------------------------------------------\n",
              "beta.1         1.0000          0          0      0.000       1.000       1.000\n",
              "beta.2      1.505e-17          0          0      0.000    1.51e-17    1.51e-17\n",
              "beta.3     -1.125e-16          0          0      0.000   -1.12e-16   -1.12e-16\n",
              "beta.4        -1.8540      0.772     -2.402      0.016      -3.367      -0.341\n",
              "const      -6842.9622      1.469  -4658.998      0.000   -6845.841   -6840.084\n",
              "          Cointegration relations for loading-coefficients-column 2           \n",
              "==============================================================================\n",
              "                 coef    std err          z      P>|z|      [0.025      0.975]\n",
              "------------------------------------------------------------------------------\n",
              "beta.1     -4.811e-18          0          0      0.000   -4.81e-18   -4.81e-18\n",
              "beta.2         1.0000          0          0      0.000       1.000       1.000\n",
              "beta.3     -4.089e-16          0          0      0.000   -4.09e-16   -4.09e-16\n",
              "beta.4        -3.8245      0.278    -13.776      0.000      -4.369      -3.280\n",
              "const      -8563.1778    131.815    -64.963      0.000   -8821.531   -8304.824\n",
              "          Cointegration relations for loading-coefficients-column 3           \n",
              "==============================================================================\n",
              "                 coef    std err          z      P>|z|      [0.025      0.975]\n",
              "------------------------------------------------------------------------------\n",
              "beta.1     -7.478e-18          0          0      0.000   -7.48e-18   -7.48e-18\n",
              "beta.2     -1.682e-17          0          0      0.000   -1.68e-17   -1.68e-17\n",
              "beta.3         1.0000          0          0      0.000       1.000       1.000\n",
              "beta.4        -0.3798    250.783     -0.002      0.999    -491.905     491.146\n",
              "const       -743.9243     47.401    -15.694      0.000    -836.828    -651.021\n",
              "==============================================================================\n",
              "\"\"\""
            ]
          },
          "metadata": {},
          "execution_count": 289
        }
      ]
    },
    {
      "cell_type": "markdown",
      "source": [
        "### Predict"
      ],
      "metadata": {
        "id": "zUov_5W6oHet"
      }
    },
    {
      "cell_type": "code",
      "source": [
        "vecm_pred, lower, upper = vecm_fit.predict(61, 0.05)\n",
        "rmse = math.sqrt(mean_squared_error(test.refuel, vecm_pred[:,0]))\n",
        "rmse"
      ],
      "metadata": {
        "colab": {
          "base_uri": "https://localhost:8080/"
        },
        "id": "o2PxH-XyoFTU",
        "outputId": "d83cb01b-7c84-46ce-8c49-b883058e46bb"
      },
      "execution_count": 293,
      "outputs": [
        {
          "output_type": "execute_result",
          "data": {
            "text/plain": [
              "776.7711114905343"
            ]
          },
          "metadata": {},
          "execution_count": 293
        }
      ]
    },
    {
      "cell_type": "markdown",
      "source": [
        "# Usage of Machine Learning Model"
      ],
      "metadata": {
        "id": "EEg-obqCoYTW"
      }
    },
    {
      "cell_type": "markdown",
      "source": [
        "변수들의 scale 에 로버스트한 트리계열의 모델로 XGBoostRegressor를 이용하기로 한다."
      ],
      "metadata": {
        "id": "l86W-0kCoeVR"
      }
    },
    {
      "cell_type": "code",
      "source": [
        "x_train = train[['음/식료품', '가전/가구', '서울시 추가 확진']]\n",
        "y_train = train['refuel']\n",
        "\n",
        "x_test = test[['음/식료품', '가전/가구', '서울시 추가 확진']]\n",
        "y_test = test['refuel']"
      ],
      "metadata": {
        "id": "cyuMh3E8oWbW"
      },
      "execution_count": 296,
      "outputs": []
    },
    {
      "cell_type": "markdown",
      "source": [
        "### Model fitting"
      ],
      "metadata": {
        "id": "Vmpu8YIeo26z"
      }
    },
    {
      "cell_type": "code",
      "source": [
        "xgbr = XGBRegressor()\n",
        "xgbr.fit(x_train, y_train)"
      ],
      "metadata": {
        "colab": {
          "base_uri": "https://localhost:8080/"
        },
        "id": "mH32dwv8oySg",
        "outputId": "337ee2cb-5cc9-49ae-982c-6411e9654fa2"
      },
      "execution_count": 297,
      "outputs": [
        {
          "output_type": "stream",
          "name": "stdout",
          "text": [
            "[07:55:23] WARNING: /workspace/src/objective/regression_obj.cu:152: reg:linear is now deprecated in favor of reg:squarederror.\n"
          ]
        },
        {
          "output_type": "execute_result",
          "data": {
            "text/plain": [
              "XGBRegressor()"
            ]
          },
          "metadata": {},
          "execution_count": 297
        }
      ]
    },
    {
      "cell_type": "markdown",
      "source": [
        "### Predict"
      ],
      "metadata": {
        "id": "czq-Y69Xo72i"
      }
    },
    {
      "cell_type": "code",
      "source": [
        "xgbr_pred = xgbr.predict(x_test)\n",
        "xgbr_rmse = math.sqrt(mean_squared_error(xgbr_pred, y_test))\n",
        "xgbr_rmse"
      ],
      "metadata": {
        "colab": {
          "base_uri": "https://localhost:8080/"
        },
        "id": "Ee6lSvZUo6V0",
        "outputId": "d7843685-6244-48a2-c166-adccab77b65d"
      },
      "execution_count": 298,
      "outputs": [
        {
          "output_type": "execute_result",
          "data": {
            "text/plain": [
              "587.609389211811"
            ]
          },
          "metadata": {},
          "execution_count": 298
        }
      ]
    },
    {
      "cell_type": "markdown",
      "source": [
        "위의 수치적 결과가 아쉬운 부분은 분명 존재하지만 모든 데이터분석 절차와 결과를 정리 및 해석하고 인사이트 도출까지의 과정을 실현시키는 것에 더 중요점을 두었다.\n",
        "또한 이 수치적 결과가 아쉬웠던 것은 데이터 수집에 대한 한계가 분명히 존재하였고 코로나라는 특정 시기의 데이터를 이용하려다 보니 시계열 분석에있어서 1년 9개월이라는 짧은 기간의 데이터가 아쉬웠다.\n"
      ],
      "metadata": {
        "id": "CB_qxaGkpBgz"
      }
    },
    {
      "cell_type": "code",
      "source": [
        ""
      ],
      "metadata": {
        "id": "tTXSGTxKo-j1"
      },
      "execution_count": null,
      "outputs": []
    }
  ]
}